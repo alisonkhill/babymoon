{
 "cells": [
  {
   "cell_type": "markdown",
   "metadata": {},
   "source": [
    "## Import modules"
   ]
  },
  {
   "cell_type": "code",
   "execution_count": 1,
   "metadata": {},
   "outputs": [],
   "source": [
    "import pandas as pd\n",
    "from datetime import datetime"
   ]
  },
  {
   "cell_type": "markdown",
   "metadata": {},
   "source": [
    "## Read in and Inspect Data"
   ]
  },
  {
   "cell_type": "code",
   "execution_count": 23,
   "metadata": {},
   "outputs": [
    {
     "name": "stdout",
     "output_type": "stream",
     "text": [
      "moon_df:\n",
      "          Day               Date          Time\n",
      "0     Monday    15 January 1900   08:07:30 pm\n",
      "1  Wednesday   14 February 1900   02:50:12 pm\n",
      "2     Friday      16 March 1900   09:11:48 am\n",
      "3     Sunday      15 April 1900   02:02:06 am\n",
      "4     Monday        14 May 1900   04:36:36 pm \n",
      "\n",
      "births1_df:\n",
      "    year  month  date_of_month  day_of_week  births\n",
      "0  1994      1              1            6    8096\n",
      "1  1994      1              2            7    7772\n",
      "2  1994      1              3            1   10142\n",
      "3  1994      1              4            2   11248\n",
      "4  1994      1              5            3   11053 \n",
      "\n",
      "births2_df:\n",
      "    year  month  date_of_month  day_of_week  births\n",
      "0  2000      1              1            6    9083\n",
      "1  2000      1              2            7    8006\n",
      "2  2000      1              3            1   11363\n",
      "3  2000      1              4            2   13032\n",
      "4  2000      1              5            3   12558\n"
     ]
    }
   ],
   "source": [
    "moon_df = pd.read_csv('full-moon-calendar-1900-2050/full_moon.csv')\n",
    "births1_df = pd.read_csv('fivethirtyeight-births-dataset/US_births_1994-2003_CDC_NCHS.csv')\n",
    "births2_df = pd.read_csv('fivethirtyeight-births-dataset/US_births_2000-2014_SSA.csv')\n",
    "\n",
    "print('moon_df:\\n', moon_df.head(),\n",
    "    '\\n\\nbirths1_df:\\n', births1_df.head(),\n",
    "    '\\n\\nbirths2_df:\\n', births2_df.head())"
   ]
  },
  {
   "cell_type": "markdown",
   "metadata": {},
   "source": [
    "## Clean Data\n",
    "- Check each dataframe for null values\n"
   ]
  },
  {
   "cell_type": "code",
   "execution_count": 24,
   "metadata": {},
   "outputs": [
    {
     "name": "stdout",
     "output_type": "stream",
     "text": [
      "births1_df nulls:\n",
      " Empty DataFrame\n",
      "Columns: [year, month, date_of_month, day_of_week, births]\n",
      "Index: [] \n",
      "\n",
      "births2_df nulls:\n",
      " Empty DataFrame\n",
      "Columns: [year, month, date_of_month, day_of_week, births]\n",
      "Index: [] \n",
      "\n",
      "moon_df nulls:\n",
      " Empty DataFrame\n",
      "Columns: [Day,  Date,  Time]\n",
      "Index: []\n"
     ]
    }
   ],
   "source": [
    "print(\n",
    "    'births1_df nulls:\\n',\n",
    "    births1_df[births1_df.isna().any(axis=1)],\n",
    "    '\\n\\nbirths2_df nulls:\\n',\n",
    "    births2_df[births2_df.isna().any(axis=1)],\n",
    "    '\\n\\nmoon_df nulls:\\n',\n",
    "    moon_df[moon_df.isna().any(axis=1)])"
   ]
  },
  {
   "cell_type": "markdown",
   "metadata": {},
   "source": [
    "- No null values found\n",
    "\n",
    "- Check data types and eliminate any extra whitespace"
   ]
  },
  {
   "cell_type": "code",
   "execution_count": 25,
   "metadata": {},
   "outputs": [
    {
     "name": "stdout",
     "output_type": "stream",
     "text": [
      "births1_df dtypes:\n",
      " year             int64\n",
      "month            int64\n",
      "date_of_month    int64\n",
      "day_of_week      int64\n",
      "births           int64\n",
      "dtype: object \n",
      "\n",
      "births2_df dtypes:\n",
      " year             int64\n",
      "month            int64\n",
      "date_of_month    int64\n",
      "day_of_week      int64\n",
      "births           int64\n",
      "dtype: object \n",
      "\n",
      "moon_df dtypes:\n",
      " Day      object\n",
      " Date    object\n",
      " Time    object\n",
      "dtype: object\n"
     ]
    }
   ],
   "source": [
    "# Check data types\n",
    "\n",
    "print(\n",
    "    'births1_df dtypes:\\n', births1_df.dtypes, \n",
    "    '\\n\\nbirths2_df dtypes:\\n', births2_df.dtypes,\n",
    "    '\\n\\nmoon_df dtypes:\\n', moon_df.dtypes)"
   ]
  },
  {
   "cell_type": "code",
   "execution_count": null,
   "metadata": {},
   "outputs": [],
   "source": []
  },
  {
   "cell_type": "code",
   "execution_count": null,
   "metadata": {},
   "outputs": [],
   "source": [
    "# The moon dataframe has strings, so str.strip can be applied\n",
    "\n",
    "moon_df['Day'].str.strip()"
   ]
  },
  {
   "cell_type": "code",
   "execution_count": null,
   "metadata": {},
   "outputs": [],
   "source": [
    "# Trying to strip the Date columns returned a keyerror for \"Date\", so inspecting columns names\n",
    "\n",
    "moon_df.columns"
   ]
  },
  {
   "cell_type": "code",
   "execution_count": null,
   "metadata": {},
   "outputs": [],
   "source": [
    "# Columns names Date and Time have extra whitespace, so need to remove that in order to operate on those columns\n",
    "\n",
    "moon_df.columns = moon_df.columns.str.lstrip()\n",
    "moon_df.columns"
   ]
  },
  {
   "cell_type": "code",
   "execution_count": null,
   "metadata": {},
   "outputs": [],
   "source": [
    "# For date and time columns, we only want to remove any leading or trailing whitespace\n",
    "\n",
    "moon_df['Date'].str.strip()"
   ]
  },
  {
   "cell_type": "code",
   "execution_count": null,
   "metadata": {},
   "outputs": [],
   "source": [
    "moon_df['Time'].str.strip()"
   ]
  },
  {
   "cell_type": "markdown",
   "metadata": {},
   "source": [
    "## Combining birth datasets"
   ]
  },
  {
   "cell_type": "code",
   "execution_count": null,
   "metadata": {},
   "outputs": [],
   "source": [
    "# Combine birth data into one dataframe\n",
    "\n",
    "births_df = pd.concat([births1_df, births2_df], ignore_index=True)"
   ]
  },
  {
   "cell_type": "code",
   "execution_count": null,
   "metadata": {},
   "outputs": [],
   "source": [
    "# Confirm concatenation\n",
    "\n",
    "births_df"
   ]
  },
  {
   "cell_type": "markdown",
   "metadata": {},
   "source": [
    "- Drop duplicate dates since the datasets overlap from 2000-2003"
   ]
  },
  {
   "cell_type": "code",
   "execution_count": null,
   "metadata": {},
   "outputs": [],
   "source": [
    "# Check the starting number of rows\n",
    "\n",
    "births_df.shape"
   ]
  },
  {
   "cell_type": "code",
   "execution_count": null,
   "metadata": {},
   "outputs": [],
   "source": [
    "# Drop rows that match on all three date components\n",
    "\n",
    "births_df.drop_duplicates(subset=['year', 'month', 'date_of_month'], keep='last', inplace=True)"
   ]
  },
  {
   "cell_type": "code",
   "execution_count": null,
   "metadata": {},
   "outputs": [],
   "source": [
    "# Verify new number of rows\n",
    "\n",
    "births_df.shape"
   ]
  },
  {
   "cell_type": "markdown",
   "metadata": {},
   "source": [
    "## Preparing birth data for merge with moon data\n",
    " \n",
    "- For future use in Tableau, which recognizes date data, there should be a month column with the name of the month instead of a number.\n",
    "- This will also make the month names the same as in moon_df"
   ]
  },
  {
   "cell_type": "code",
   "execution_count": null,
   "metadata": {},
   "outputs": [],
   "source": [
    "# Create a dictionary of month numbers and names\n",
    "\n",
    "month_name_dict = {\n",
    "                1: 'January', \n",
    "                2: 'February', \n",
    "                3: 'March', \n",
    "                4: 'April', \n",
    "                5: 'May', \n",
    "                6:'June',\n",
    "                7: 'July',\n",
    "                8: 'August',\n",
    "                9: 'September',\n",
    "                10: 'October',\n",
    "                11: 'November',\n",
    "                12: 'December'\n",
    "                }"
   ]
  },
  {
   "cell_type": "code",
   "execution_count": null,
   "metadata": {},
   "outputs": [],
   "source": [
    "# Create series of month names so we can use series.map()\n",
    "\n",
    "month_numbers = births_df['month']"
   ]
  },
  {
   "cell_type": "code",
   "execution_count": null,
   "metadata": {},
   "outputs": [],
   "source": [
    "# Map month names to numbers\n",
    "\n",
    "month_names = month_numbers.map(month_name_dict)"
   ]
  },
  {
   "cell_type": "code",
   "execution_count": null,
   "metadata": {},
   "outputs": [],
   "source": [
    "# Add this series as a new column in births_df\n",
    "\n",
    "births_df['month_name'] = month_names"
   ]
  },
  {
   "cell_type": "code",
   "execution_count": null,
   "metadata": {},
   "outputs": [],
   "source": [
    "# Inspect results\n",
    "\n",
    "births_df"
   ]
  },
  {
   "cell_type": "markdown",
   "metadata": {},
   "source": [
    "- Do the same thing with day_of_week column to have day names as well as numbers, for possible births by day of week analysis in Tableau"
   ]
  },
  {
   "cell_type": "code",
   "execution_count": null,
   "metadata": {},
   "outputs": [],
   "source": [
    "# According to kaggle documentation, 1 is Monday and 7 is Sunday\n",
    "\n",
    "day_names_dict = {\n",
    "                    1: 'Monday',\n",
    "                    2: 'Tuesday',\n",
    "                    3: 'Wednesday',\n",
    "                    4: 'Thursday',\n",
    "                    5: 'Friday',\n",
    "                    6: 'Saturday',\n",
    "                    7: 'Sunday'\n",
    "                    }"
   ]
  },
  {
   "cell_type": "code",
   "execution_count": null,
   "metadata": {},
   "outputs": [],
   "source": [
    "# Create series of day numbers from births_df\n",
    "\n",
    "day_numbers = births_df['day_of_week']\n",
    "day_numbers"
   ]
  },
  {
   "cell_type": "code",
   "execution_count": null,
   "metadata": {},
   "outputs": [],
   "source": [
    "# Create day names series using series.map()\n",
    "\n",
    "day_names = day_numbers.map(day_names_dict)"
   ]
  },
  {
   "cell_type": "code",
   "execution_count": null,
   "metadata": {},
   "outputs": [],
   "source": [
    "# Adding day names series to births_df using same column name as moon_df\n",
    "\n",
    "births_df['Day'] = day_names\n",
    "births_df"
   ]
  },
  {
   "cell_type": "markdown",
   "metadata": {},
   "source": [
    "## Preparing full moon dataset to merge with births\n",
    "\n",
    "- Full moon dataset should have separate columns for month, day, and year, for easier merging with births"
   ]
  },
  {
   "cell_type": "code",
   "execution_count": null,
   "metadata": {},
   "outputs": [],
   "source": [
    "moon_df.columns"
   ]
  },
  {
   "cell_type": "code",
   "execution_count": null,
   "metadata": {},
   "outputs": [],
   "source": [
    "# Create date series from moon_df\n",
    "\n",
    "moon_date = moon_df.loc[:, 'Date']\n",
    "moon_date.head()"
   ]
  },
  {
   "cell_type": "code",
   "execution_count": null,
   "metadata": {},
   "outputs": [],
   "source": [
    "# Split date into 3 columns\n",
    "\n",
    "moon_date_df = moon_date.str.split(expand=True)\n",
    "moon_date_df.head()"
   ]
  },
  {
   "cell_type": "code",
   "execution_count": null,
   "metadata": {},
   "outputs": [],
   "source": [
    "# Renaming columns\n",
    "\n",
    "moon_date_df.rename(columns={0: 'date_of_month', 1: 'month', 2: 'year'}, inplace=True)"
   ]
  },
  {
   "cell_type": "code",
   "execution_count": null,
   "metadata": {},
   "outputs": [],
   "source": [
    "# Merging new columns back to moon_df\n",
    "\n",
    "moon_df = moon_df.merge(moon_date_df, left_index=True, right_index=True)\n",
    "moon_df"
   ]
  },
  {
   "cell_type": "code",
   "execution_count": null,
   "metadata": {},
   "outputs": [],
   "source": []
  }
 ],
 "metadata": {
  "kernelspec": {
   "display_name": "Python 3.10.1 64-bit",
   "language": "python",
   "name": "python3"
  },
  "language_info": {
   "codemirror_mode": {
    "name": "ipython",
    "version": 3
   },
   "file_extension": ".py",
   "mimetype": "text/x-python",
   "name": "python",
   "nbconvert_exporter": "python",
   "pygments_lexer": "ipython3",
   "version": "3.10.1"
  },
  "orig_nbformat": 4,
  "vscode": {
   "interpreter": {
    "hash": "369f2c481f4da34e4445cda3fffd2e751bd1c4d706f27375911949ba6bb62e1c"
   }
  }
 },
 "nbformat": 4,
 "nbformat_minor": 2
}
