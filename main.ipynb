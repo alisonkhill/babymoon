{
 "cells": [
  {
   "cell_type": "markdown",
   "metadata": {},
   "source": [
    "### Import modules"
   ]
  },
  {
   "cell_type": "markdown",
   "metadata": {},
   "source": [
    "# Babymoons\n",
    "#### Code Louisville Data Analysis 2 Project"
   ]
  },
  {
   "cell_type": "code",
   "execution_count": 62,
   "metadata": {},
   "outputs": [],
   "source": [
    "import pandas as pd\n",
    "import seaborn as sns\n",
    "from datetime import datetime"
   ]
  },
  {
   "cell_type": "markdown",
   "metadata": {},
   "source": [
    "## Feature 1: Loading Data\n",
    "### Read at least two data files\n",
    "3 csv files are used here"
   ]
  },
  {
   "cell_type": "code",
   "execution_count": 11,
   "metadata": {},
   "outputs": [],
   "source": [
    "# Read in and inspect in Variables View\n",
    "\n",
    "moon_df = pd.read_csv('full-moon-calendar-1900-2050/full_moon.csv')\n",
    "births1_df = pd.read_csv('fivethirtyeight-births-dataset/US_births_1994-2003_CDC_NCHS.csv')\n",
    "births2_df = pd.read_csv('fivethirtyeight-births-dataset/US_births_2000-2014_SSA.csv')"
   ]
  },
  {
   "cell_type": "markdown",
   "metadata": {},
   "source": [
    "## Feature 2: Clean and operate on the data while combining them\n",
    "### Clean Data\n",
    "##### Check dataframes for null values"
   ]
  },
  {
   "cell_type": "code",
   "execution_count": 3,
   "metadata": {},
   "outputs": [
    {
     "name": "stdout",
     "output_type": "stream",
     "text": [
      "births1_df nulls:\n",
      " Empty DataFrame\n",
      "Columns: [year, month, date_of_month, day_of_week, births]\n",
      "Index: [] \n",
      "\n",
      "births2_df nulls:\n",
      " Empty DataFrame\n",
      "Columns: [year, month, date_of_month, day_of_week, births]\n",
      "Index: [] \n",
      "\n",
      "moon_df nulls:\n",
      " Empty DataFrame\n",
      "Columns: [Day,  Date,  Time]\n",
      "Index: []\n"
     ]
    }
   ],
   "source": [
    "print(\n",
    "    'births1_df nulls:\\n', births1_df[births1_df.isna().any(axis=1)],\n",
    "    '\\n\\nbirths2_df nulls:\\n', births2_df[births2_df.isna().any(axis=1)],\n",
    "    '\\n\\nmoon_df nulls:\\n', moon_df[moon_df.isna().any(axis=1)]\n",
    ")"
   ]
  },
  {
   "cell_type": "markdown",
   "metadata": {},
   "source": [
    "No null values found\n",
    "\n",
    "##### Check data types and eliminate any extra whitespace"
   ]
  },
  {
   "cell_type": "code",
   "execution_count": 4,
   "metadata": {},
   "outputs": [
    {
     "name": "stdout",
     "output_type": "stream",
     "text": [
      "births1_df dtypes:\n",
      " year             int64\n",
      "month            int64\n",
      "date_of_month    int64\n",
      "day_of_week      int64\n",
      "births           int64\n",
      "dtype: object \n",
      "\n",
      "births2_df dtypes:\n",
      " year             int64\n",
      "month            int64\n",
      "date_of_month    int64\n",
      "day_of_week      int64\n",
      "births           int64\n",
      "dtype: object \n",
      "\n",
      "moon_df dtypes:\n",
      " Day      object\n",
      " Date    object\n",
      " Time    object\n",
      "dtype: object\n"
     ]
    }
   ],
   "source": [
    "# Check data types\n",
    "\n",
    "print(\n",
    "    'births1_df dtypes:\\n', births1_df.dtypes, \n",
    "    '\\n\\nbirths2_df dtypes:\\n', births2_df.dtypes,\n",
    "    '\\n\\nmoon_df dtypes:\\n', moon_df.dtypes\n",
    ")"
   ]
  },
  {
   "cell_type": "code",
   "execution_count": 5,
   "metadata": {},
   "outputs": [
    {
     "name": "stdout",
     "output_type": "stream",
     "text": [
      "births1_df:\n",
      " Index(['year', 'month', 'date_of_month', 'day_of_week', 'births'], dtype='object') \n",
      "\n",
      "births2_df:\n",
      " Index(['year', 'month', 'date_of_month', 'day_of_week', 'births'], dtype='object') \n",
      "\n",
      "moon_df:\n",
      " Index(['Day', ' Date', ' Time'], dtype='object')\n"
     ]
    }
   ],
   "source": [
    "# It looks there's some extra whitespace in the column names, let's check it out\n",
    "\n",
    "print(\n",
    "    'births1_df:\\n', births1_df.columns,\n",
    "    '\\n\\nbirths2_df:\\n', births2_df.columns,\n",
    "    '\\n\\nmoon_df:\\n', moon_df.columns\n",
    ")"
   ]
  },
  {
   "cell_type": "code",
   "execution_count": 16,
   "metadata": {},
   "outputs": [
    {
     "data": {
      "text/plain": [
       "Index(['Day', 'Date', 'Time'], dtype='object')"
      ]
     },
     "execution_count": 16,
     "metadata": {},
     "output_type": "execute_result"
    }
   ],
   "source": [
    "# There's definitely leading whitespace in front of the moon_df column names - perform strip and view results\n",
    "\n",
    "moon_df.columns = moon_df.columns.str.lstrip()\n",
    "\n",
    "moon_df.columns"
   ]
  },
  {
   "cell_type": "code",
   "execution_count": 7,
   "metadata": {},
   "outputs": [
    {
     "data": {
      "text/plain": [
       "0          Monday\n",
       "1       Wednesday\n",
       "2          Friday\n",
       "3          Sunday\n",
       "4          Monday\n",
       "          ...    \n",
       "1863     Thursday\n",
       "1864       Friday\n",
       "1865       Sunday\n",
       "1866       Monday\n",
       "1867    Wednesday\n",
       "Name: Day, Length: 1868, dtype: object"
      ]
     },
     "execution_count": 7,
     "metadata": {},
     "output_type": "execute_result"
    }
   ],
   "source": [
    "# Remove any leading and trailing whitespace that might be present from the Day column in moon_df\n",
    "\n",
    "moon_df['Day'].str.strip()"
   ]
  },
  {
   "cell_type": "markdown",
   "metadata": {},
   "source": [
    "Everything looks as expected\n",
    "\n",
    "##### Correct dates to YYYY-MM-DD format in all 3 datasets"
   ]
  },
  {
   "cell_type": "code",
   "execution_count": 31,
   "metadata": {},
   "outputs": [
    {
     "name": "stdout",
     "output_type": "stream",
     "text": [
      "Day             object\n",
      "Date    datetime64[ns]\n",
      "Time            object\n",
      "dtype: object\n",
      "\n",
      "         Day       Date          Time\n",
      "0     Monday 1900-01-15   08:07:30 pm\n",
      "1  Wednesday 1900-02-14   02:50:12 pm\n",
      "2     Friday 1900-03-16   09:11:48 am\n",
      "3     Sunday 1900-04-15   02:02:06 am\n",
      "4     Monday 1900-05-14   04:36:36 pm\n"
     ]
    }
   ],
   "source": [
    "# Start with moon_df, printing dtypes again to confirm successfully converted to datetime\n",
    "\n",
    "moon_df['Date'] = pd.to_datetime(moon_df['Date'])\n",
    "\n",
    "print(moon_df.dtypes, moon_df.head(), sep='\\n\\n')"
   ]
  },
  {
   "cell_type": "code",
   "execution_count": 17,
   "metadata": {},
   "outputs": [
    {
     "name": "stdout",
     "output_type": "stream",
     "text": [
      "   year  month  date_of_month  day_of_week  births       Date\n",
      "0  1994      1              1            6    8096 1994-01-01\n",
      "1  1994      1              2            7    7772 1994-01-02\n",
      "2  1994      1              3            1   10142 1994-01-03\n",
      "\n",
      "year                      int64\n",
      "month                     int64\n",
      "date_of_month             int64\n",
      "day_of_week               int64\n",
      "births                    int64\n",
      "Date             datetime64[ns]\n",
      "dtype: object\n"
     ]
    }
   ],
   "source": [
    "# Next do the birth datasets and check results\n",
    "\n",
    "births1_df['Date'] = pd.to_datetime(births1_df.year.astype(str) + '-' + births1_df.month.astype(str) + '-' + births1_df.date_of_month.astype(str))\n",
    "\n",
    "print(births1_df.head(3), births1_df.dtypes, sep='\\n\\n')"
   ]
  },
  {
   "cell_type": "code",
   "execution_count": 18,
   "metadata": {},
   "outputs": [
    {
     "name": "stdout",
     "output_type": "stream",
     "text": [
      "   year  month  date_of_month  day_of_week  births       Date\n",
      "0  2000      1              1            6    9083 2000-01-01\n",
      "1  2000      1              2            7    8006 2000-01-02\n",
      "2  2000      1              3            1   11363 2000-01-03\n",
      "\n",
      "year                      int64\n",
      "month                     int64\n",
      "date_of_month             int64\n",
      "day_of_week               int64\n",
      "births                    int64\n",
      "Date             datetime64[ns]\n",
      "dtype: object\n"
     ]
    }
   ],
   "source": [
    "births2_df['Date'] = pd.to_datetime(births2_df.year.astype(str) + '-' + births2_df.month.astype(str) + '-' + births2_df.date_of_month.astype(str))\n",
    "\n",
    "print(births2_df.head(3), births2_df.dtypes, sep='\\n\\n')"
   ]
  },
  {
   "cell_type": "markdown",
   "metadata": {},
   "source": [
    "##### Combine birth datasets"
   ]
  },
  {
   "cell_type": "code",
   "execution_count": 19,
   "metadata": {},
   "outputs": [],
   "source": [
    "# Combine birth data into one dataframe\n",
    "\n",
    "births_df = pd.concat([births1_df, births2_df], ignore_index=True)"
   ]
  },
  {
   "cell_type": "markdown",
   "metadata": {},
   "source": [
    "Looks good in Variables View\n",
    "\n",
    "##### Drop duplicate dates since the datasets overlap from 2000-2003"
   ]
  },
  {
   "cell_type": "code",
   "execution_count": 20,
   "metadata": {},
   "outputs": [
    {
     "data": {
      "text/plain": [
       "(9131, 6)"
      ]
     },
     "execution_count": 20,
     "metadata": {},
     "output_type": "execute_result"
    }
   ],
   "source": [
    "# Check the starting number of rows\n",
    "\n",
    "births_df.shape"
   ]
  },
  {
   "cell_type": "code",
   "execution_count": 21,
   "metadata": {},
   "outputs": [
    {
     "data": {
      "text/plain": [
       "(7670, 6)"
      ]
     },
     "execution_count": 21,
     "metadata": {},
     "output_type": "execute_result"
    }
   ],
   "source": [
    "# Drop rows that match on date and verify that rows have been dropped\n",
    "\n",
    "births_df.drop_duplicates(subset=['Date'], keep='last', inplace=True)\n",
    "\n",
    "births_df.shape"
   ]
  },
  {
   "cell_type": "markdown",
   "metadata": {},
   "source": [
    "### Replace day of week numbers with names in birth dataset\n",
    "\n",
    "- We may want to look at births on different days of the week as part of our analysis"
   ]
  },
  {
   "cell_type": "code",
   "execution_count": 22,
   "metadata": {},
   "outputs": [],
   "source": [
    "# According to kaggle documentation, 1 is Monday and 7 is Sunday\n",
    "\n",
    "day_names_dict = {\n",
    "                    1: 'Monday',\n",
    "                    2: 'Tuesday',\n",
    "                    3: 'Wednesday',\n",
    "                    4: 'Thursday',\n",
    "                    5: 'Friday',\n",
    "                    6: 'Saturday',\n",
    "                    7: 'Sunday'\n",
    "                    }"
   ]
  },
  {
   "cell_type": "code",
   "execution_count": 23,
   "metadata": {},
   "outputs": [],
   "source": [
    "# Create series of day numbers from births_df\n",
    "\n",
    "day_numbers = births_df['day_of_week']"
   ]
  },
  {
   "cell_type": "code",
   "execution_count": 24,
   "metadata": {},
   "outputs": [],
   "source": [
    "# Create day names series using series.map()\n",
    "\n",
    "day_names = day_numbers.map(day_names_dict)"
   ]
  },
  {
   "cell_type": "code",
   "execution_count": 40,
   "metadata": {},
   "outputs": [],
   "source": [
    "# Adding day names series to births_df using same column name as moon_df\n",
    "\n",
    "births_df['Day'] = day_names"
   ]
  },
  {
   "cell_type": "markdown",
   "metadata": {},
   "source": [
    "## Create final dataset\n",
    "### Perform a pandas merge"
   ]
  },
  {
   "cell_type": "code",
   "execution_count": 34,
   "metadata": {},
   "outputs": [],
   "source": [
    "# Use Date columns to merge and keep everything in births_df, with only matching rows from moon_df\n",
    "\n",
    "babymoons_df = pd.merge(births_df, moon_df, how = 'left', on = ['Date', 'Day'])"
   ]
  },
  {
   "cell_type": "code",
   "execution_count": 19,
   "metadata": {},
   "outputs": [
    {
     "data": {
      "text/plain": [
       "(7670, 8)"
      ]
     },
     "execution_count": 19,
     "metadata": {},
     "output_type": "execute_result"
    }
   ],
   "source": [
    "# Confirm that the number of rows equals that of births_df\n",
    "\n",
    "babymoons_df.shape"
   ]
  },
  {
   "cell_type": "markdown",
   "metadata": {},
   "source": [
    "Everything looks good in Variables View\n",
    "\n",
    "### Drop unnecessary columns"
   ]
  },
  {
   "cell_type": "code",
   "execution_count": 35,
   "metadata": {},
   "outputs": [
    {
     "data": {
      "text/html": [
       "<div>\n",
       "<style scoped>\n",
       "    .dataframe tbody tr th:only-of-type {\n",
       "        vertical-align: middle;\n",
       "    }\n",
       "\n",
       "    .dataframe tbody tr th {\n",
       "        vertical-align: top;\n",
       "    }\n",
       "\n",
       "    .dataframe thead th {\n",
       "        text-align: right;\n",
       "    }\n",
       "</style>\n",
       "<table border=\"1\" class=\"dataframe\">\n",
       "  <thead>\n",
       "    <tr style=\"text-align: right;\">\n",
       "      <th></th>\n",
       "      <th>births</th>\n",
       "      <th>Date</th>\n",
       "      <th>Day</th>\n",
       "      <th>Time</th>\n",
       "    </tr>\n",
       "  </thead>\n",
       "  <tbody>\n",
       "    <tr>\n",
       "      <th>0</th>\n",
       "      <td>8096</td>\n",
       "      <td>1994-01-01</td>\n",
       "      <td>Saturday</td>\n",
       "      <td>NaN</td>\n",
       "    </tr>\n",
       "    <tr>\n",
       "      <th>1</th>\n",
       "      <td>7772</td>\n",
       "      <td>1994-01-02</td>\n",
       "      <td>Sunday</td>\n",
       "      <td>NaN</td>\n",
       "    </tr>\n",
       "    <tr>\n",
       "      <th>2</th>\n",
       "      <td>10142</td>\n",
       "      <td>1994-01-03</td>\n",
       "      <td>Monday</td>\n",
       "      <td>NaN</td>\n",
       "    </tr>\n",
       "    <tr>\n",
       "      <th>3</th>\n",
       "      <td>11248</td>\n",
       "      <td>1994-01-04</td>\n",
       "      <td>Tuesday</td>\n",
       "      <td>NaN</td>\n",
       "    </tr>\n",
       "    <tr>\n",
       "      <th>4</th>\n",
       "      <td>11053</td>\n",
       "      <td>1994-01-05</td>\n",
       "      <td>Wednesday</td>\n",
       "      <td>NaN</td>\n",
       "    </tr>\n",
       "  </tbody>\n",
       "</table>\n",
       "</div>"
      ],
      "text/plain": [
       "   births       Date        Day Time\n",
       "0    8096 1994-01-01   Saturday  NaN\n",
       "1    7772 1994-01-02     Sunday  NaN\n",
       "2   10142 1994-01-03     Monday  NaN\n",
       "3   11248 1994-01-04    Tuesday  NaN\n",
       "4   11053 1994-01-05  Wednesday  NaN"
      ]
     },
     "execution_count": 35,
     "metadata": {},
     "output_type": "execute_result"
    }
   ],
   "source": [
    "babymoons_df.drop(['year', 'month', 'date_of_month', 'day_of_week'], axis=1, inplace=True)\n",
    "babymoons_df.head()"
   ]
  },
  {
   "cell_type": "markdown",
   "metadata": {},
   "source": [
    "### Indicate where full moons occur\n",
    "\n",
    "- The Time column has been retained from moons_df, so any entry there that is not NaN represents a full moon\n",
    "- We won't be using the times of the full moon, so we'll change the column to say \"yes\" or \"no\" for whether there was a full moon"
   ]
  },
  {
   "cell_type": "code",
   "execution_count": 36,
   "metadata": {},
   "outputs": [],
   "source": [
    "# Fill in 'No' wherever NaN is present in Time column and confirm result\n",
    "\n",
    "babymoons_df['Time'].fillna('No', inplace=True)"
   ]
  },
  {
   "cell_type": "code",
   "execution_count": 37,
   "metadata": {},
   "outputs": [],
   "source": [
    "# Next, replace values in the Time column that don't say 'No' with 'Yes' and confirm result\n",
    "\n",
    "babymoons_df.loc[babymoons_df['Time'] != 'No','Time']='Yes'"
   ]
  },
  {
   "cell_type": "code",
   "execution_count": 38,
   "metadata": {},
   "outputs": [
    {
     "data": {
      "text/plain": [
       "Index(['Births', 'Date', 'Day', 'Full Moon'], dtype='object')"
      ]
     },
     "execution_count": 38,
     "metadata": {},
     "output_type": "execute_result"
    }
   ],
   "source": [
    "# Rename Time column (and capitalize births column for consistency)\n",
    "\n",
    "babymoons_df.rename(columns= {'births':'Births', 'Time':'Full Moon'}, inplace=True)\n",
    "babymoons_df.columns"
   ]
  },
  {
   "cell_type": "markdown",
   "metadata": {},
   "source": [
    "## Answering questions with the new dataset\n",
    "\n",
    "We want to know if more babies are born on the full moon on average"
   ]
  },
  {
   "cell_type": "code",
   "execution_count": 70,
   "metadata": {},
   "outputs": [
    {
     "data": {
      "text/html": [
       "<div>\n",
       "<style scoped>\n",
       "    .dataframe tbody tr th:only-of-type {\n",
       "        vertical-align: middle;\n",
       "    }\n",
       "\n",
       "    .dataframe tbody tr th {\n",
       "        vertical-align: top;\n",
       "    }\n",
       "\n",
       "    .dataframe thead tr th {\n",
       "        text-align: left;\n",
       "    }\n",
       "\n",
       "    .dataframe thead tr:last-of-type th {\n",
       "        text-align: right;\n",
       "    }\n",
       "</style>\n",
       "<table border=\"1\" class=\"dataframe\">\n",
       "  <thead>\n",
       "    <tr>\n",
       "      <th></th>\n",
       "      <th colspan=\"4\" halign=\"left\">Births</th>\n",
       "    </tr>\n",
       "    <tr>\n",
       "      <th></th>\n",
       "      <th>mean</th>\n",
       "      <th>median</th>\n",
       "      <th>min</th>\n",
       "      <th>max</th>\n",
       "    </tr>\n",
       "    <tr>\n",
       "      <th>Full Moon</th>\n",
       "      <th></th>\n",
       "      <th></th>\n",
       "      <th></th>\n",
       "      <th></th>\n",
       "    </tr>\n",
       "  </thead>\n",
       "  <tbody>\n",
       "    <tr>\n",
       "      <th>No</th>\n",
       "      <td>11174.5</td>\n",
       "      <td>11983.0</td>\n",
       "      <td>5728</td>\n",
       "      <td>16081</td>\n",
       "    </tr>\n",
       "    <tr>\n",
       "      <th>Yes</th>\n",
       "      <td>11191.5</td>\n",
       "      <td>11972.0</td>\n",
       "      <td>6868</td>\n",
       "      <td>15454</td>\n",
       "    </tr>\n",
       "  </tbody>\n",
       "</table>\n",
       "</div>"
      ],
      "text/plain": [
       "            Births                      \n",
       "              mean   median   min    max\n",
       "Full Moon                               \n",
       "No         11174.5  11983.0  5728  16081\n",
       "Yes        11191.5  11972.0  6868  15454"
      ]
     },
     "execution_count": 70,
     "metadata": {},
     "output_type": "execute_result"
    }
   ],
   "source": [
    "# Start looking at descriptive statistics and group by presence or absence of full moon\n",
    "\n",
    "babymoons_df.groupby('Full Moon').agg({'Births': ['mean', 'median', 'min', 'max']}).round(1)"
   ]
  },
  {
   "cell_type": "markdown",
   "metadata": {},
   "source": [
    "# Feature 3: Visualize / Present Your Data"
   ]
  },
  {
   "cell_type": "markdown",
   "metadata": {},
   "source": [
    "## Make 3 matplotlib/seaborn visualizations to display your data"
   ]
  },
  {
   "cell_type": "code",
   "execution_count": 42,
   "metadata": {},
   "outputs": [
    {
     "data": {
      "text/plain": [
       "<AxesSubplot:xlabel='Births', ylabel='Full Moon'>"
      ]
     },
     "execution_count": 42,
     "metadata": {},
     "output_type": "execute_result"
    },
    {
     "data": {
      "image/png": "[encoded data removed]",
      "text/plain": [
       "<Figure size 640x480 with 1 Axes>"
      ]
     },
     "metadata": {},
     "output_type": "display_data"
    }
   ],
   "source": [
    "# It doesn't look like there's a big difference between full moon days and other days, \n",
    "# but small differences can be significant - let's look at distributions with boxplots and histograms\n",
    "\n",
    "sns.boxplot(babymoons_df, x='Births', y='Full Moon')"
   ]
  },
  {
   "cell_type": "markdown",
   "metadata": {},
   "source": [
    "There is a slightly wider range of births on non-full moon days, but they do not look very different."
   ]
  },
  {
   "cell_type": "code",
   "execution_count": 54,
   "metadata": {},
   "outputs": [
    {
     "data": {
      "text/plain": [
       "[Text(0.5, 1.0, 'All Births')]"
      ]
     },
     "execution_count": 54,
     "metadata": {},
     "output_type": "execute_result"
    },
    {
     "data": {
      "image/png": "[encoded data removed]",
      "text/plain": [
       "<Figure size 640x480 with 1 Axes>"
      ]
     },
     "metadata": {},
     "output_type": "display_data"
    }
   ],
   "source": [
    "# Look at overall distribution of births\n",
    "\n",
    "sns.histplot(babymoons_df, x='Births').set(title=\"All Births\")"
   ]
  },
  {
   "cell_type": "code",
   "execution_count": 57,
   "metadata": {},
   "outputs": [
    {
     "data": {
      "text/plain": [
       "[Text(0.5, 1.0, 'Full Moon Births')]"
      ]
     },
     "execution_count": 57,
     "metadata": {},
     "output_type": "execute_result"
    },
    {
     "data": {
      "image/png": "[encoded data removed]",
      "text/plain": [
       "<Figure size 640x480 with 1 Axes>"
      ]
     },
     "metadata": {},
     "output_type": "display_data"
    }
   ],
   "source": [
    "sns.histplot(data=babymoons_df[babymoons_df[\"Full Moon\"]==\"Yes\"], x='Births').set(title=\"Full Moon Births\")"
   ]
  },
  {
   "cell_type": "code",
   "execution_count": 58,
   "metadata": {},
   "outputs": [
    {
     "data": {
      "text/plain": [
       "[Text(0.5, 1.0, 'Non Full Moon Births')]"
      ]
     },
     "execution_count": 58,
     "metadata": {},
     "output_type": "execute_result"
    },
    {
     "data": {
      "image/png": "[encoded data removed]",
      "text/plain": [
       "<Figure size 640x480 with 1 Axes>"
      ]
     },
     "metadata": {},
     "output_type": "display_data"
    }
   ],
   "source": [
    "sns.histplot(data=babymoons_df[babymoons_df[\"Full Moon\"]==\"No\"], x='Births').set(title=\"Non Full Moon Births\")"
   ]
  },
  {
   "cell_type": "markdown",
   "metadata": {},
   "source": [
    "The distributions all are roughly the same shape (bimodal). But since the distributions are bimodal, that means that our mean calculations are not accurately describing the center of the data, since there are really two centers."
   ]
  }
 ],
 "metadata": {
  "kernelspec": {
   "display_name": "Python 3.10.1 64-bit",
   "language": "python",
   "name": "python3"
  },
  "language_info": {
   "codemirror_mode": {
    "name": "ipython",
    "version": 3
   },
   "file_extension": ".py",
   "mimetype": "text/x-python",
   "name": "python",
   "nbconvert_exporter": "python",
   "pygments_lexer": "ipython3",
   "version": "3.10.1"
  },
  "orig_nbformat": 4,
  "vscode": {
   "interpreter": {
    "hash": "369f2c481f4da34e4445cda3fffd2e751bd1c4d706f27375911949ba6bb62e1c"
   }
  }
 },
 "nbformat": 4,
 "nbformat_minor": 2
}
