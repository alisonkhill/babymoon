{
 "cells": [
  {
   "cell_type": "markdown",
   "metadata": {},
   "source": [
    "### Import modules"
   ]
  },
  {
   "cell_type": "markdown",
   "metadata": {},
   "source": [
    "# Babymoons\n",
    "#### Code Louisville Data Analysis 2 Project"
   ]
  },
  {
   "cell_type": "code",
   "execution_count": 32,
   "metadata": {},
   "outputs": [],
   "source": [
    "import pandas as pd\n",
    "import seaborn as sns\n",
    "from datetime import datetime"
   ]
  },
  {
   "cell_type": "markdown",
   "metadata": {},
   "source": [
    "## Feature 1: Loading Data\n",
    "### Read at least two data files\n",
    "3 csv files are used here"
   ]
  },
  {
   "cell_type": "code",
   "execution_count": 2,
   "metadata": {},
   "outputs": [
    {
     "name": "stdout",
     "output_type": "stream",
     "text": [
      "moon_df:\n",
      "          Day               Date          Time\n",
      "0     Monday    15 January 1900   08:07:30 pm\n",
      "1  Wednesday   14 February 1900   02:50:12 pm\n",
      "2     Friday      16 March 1900   09:11:48 am\n",
      "3     Sunday      15 April 1900   02:02:06 am\n",
      "4     Monday        14 May 1900   04:36:36 pm \n",
      "\n",
      "births1_df:\n",
      "    year  month  date_of_month  day_of_week  births\n",
      "0  1994      1              1            6    8096\n",
      "1  1994      1              2            7    7772\n",
      "2  1994      1              3            1   10142\n",
      "3  1994      1              4            2   11248\n",
      "4  1994      1              5            3   11053 \n",
      "\n",
      "births2_df:\n",
      "    year  month  date_of_month  day_of_week  births\n",
      "0  2000      1              1            6    9083\n",
      "1  2000      1              2            7    8006\n",
      "2  2000      1              3            1   11363\n",
      "3  2000      1              4            2   13032\n",
      "4  2000      1              5            3   12558\n"
     ]
    }
   ],
   "source": [
    "moon_df = pd.read_csv('full-moon-calendar-1900-2050/full_moon.csv')\n",
    "births1_df = pd.read_csv('fivethirtyeight-births-dataset/US_births_1994-2003_CDC_NCHS.csv')\n",
    "births2_df = pd.read_csv('fivethirtyeight-births-dataset/US_births_2000-2014_SSA.csv')\n",
    "\n",
    "print('moon_df:\\n', moon_df.head(),\n",
    "    '\\n\\nbirths1_df:\\n', births1_df.head(),\n",
    "    '\\n\\nbirths2_df:\\n', births2_df.head()\n",
    ")"
   ]
  },
  {
   "cell_type": "markdown",
   "metadata": {},
   "source": [
    "## Feature 2: Clean and operate on the data while combining them\n",
    "### Clean Data\n",
    "##### Check dataframes for null values"
   ]
  },
  {
   "cell_type": "code",
   "execution_count": 3,
   "metadata": {},
   "outputs": [
    {
     "name": "stdout",
     "output_type": "stream",
     "text": [
      "births1_df nulls:\n",
      " Empty DataFrame\n",
      "Columns: [year, month, date_of_month, day_of_week, births]\n",
      "Index: [] \n",
      "\n",
      "births2_df nulls:\n",
      " Empty DataFrame\n",
      "Columns: [year, month, date_of_month, day_of_week, births]\n",
      "Index: [] \n",
      "\n",
      "moon_df nulls:\n",
      " Empty DataFrame\n",
      "Columns: [Day,  Date,  Time]\n",
      "Index: []\n"
     ]
    }
   ],
   "source": [
    "print(\n",
    "    'births1_df nulls:\\n', births1_df[births1_df.isna().any(axis=1)],\n",
    "    '\\n\\nbirths2_df nulls:\\n', births2_df[births2_df.isna().any(axis=1)],\n",
    "    '\\n\\nmoon_df nulls:\\n', moon_df[moon_df.isna().any(axis=1)]\n",
    ")"
   ]
  },
  {
   "cell_type": "markdown",
   "metadata": {},
   "source": [
    "No null values found\n",
    "\n",
    "##### Check data types and eliminate any extra whitespace"
   ]
  },
  {
   "cell_type": "code",
   "execution_count": 4,
   "metadata": {},
   "outputs": [
    {
     "name": "stdout",
     "output_type": "stream",
     "text": [
      "births1_df dtypes:\n",
      " year             int64\n",
      "month            int64\n",
      "date_of_month    int64\n",
      "day_of_week      int64\n",
      "births           int64\n",
      "dtype: object \n",
      "\n",
      "births2_df dtypes:\n",
      " year             int64\n",
      "month            int64\n",
      "date_of_month    int64\n",
      "day_of_week      int64\n",
      "births           int64\n",
      "dtype: object \n",
      "\n",
      "moon_df dtypes:\n",
      " Day      object\n",
      " Date    object\n",
      " Time    object\n",
      "dtype: object\n"
     ]
    }
   ],
   "source": [
    "# Check data types\n",
    "\n",
    "print(\n",
    "    'births1_df dtypes:\\n', births1_df.dtypes, \n",
    "    '\\n\\nbirths2_df dtypes:\\n', births2_df.dtypes,\n",
    "    '\\n\\nmoon_df dtypes:\\n', moon_df.dtypes\n",
    ")"
   ]
  },
  {
   "cell_type": "code",
   "execution_count": 5,
   "metadata": {},
   "outputs": [
    {
     "name": "stdout",
     "output_type": "stream",
     "text": [
      "births1_df:\n",
      " Index(['year', 'month', 'date_of_month', 'day_of_week', 'births'], dtype='object') \n",
      "\n",
      "births2_df:\n",
      " Index(['year', 'month', 'date_of_month', 'day_of_week', 'births'], dtype='object') \n",
      "\n",
      "moon_df:\n",
      " Index(['Day', ' Date', ' Time'], dtype='object')\n"
     ]
    }
   ],
   "source": [
    "# It looks there's some extra whitespace in the column names, let's check it out\n",
    "\n",
    "print(\n",
    "    'births1_df:\\n', births1_df.columns,\n",
    "    '\\n\\nbirths2_df:\\n', births2_df.columns,\n",
    "    '\\n\\nmoon_df:\\n', moon_df.columns\n",
    ")"
   ]
  },
  {
   "cell_type": "code",
   "execution_count": 6,
   "metadata": {},
   "outputs": [
    {
     "data": {
      "text/plain": [
       "Index(['Day', 'Date', 'Time'], dtype='object')"
      ]
     },
     "execution_count": 6,
     "metadata": {},
     "output_type": "execute_result"
    }
   ],
   "source": [
    "# There's definitely leading whitespace in front of the moon_df column names - perform strip and view results\n",
    "\n",
    "moon_df.columns = moon_df.columns.str.lstrip()\n",
    "\n",
    "moon_df.columns"
   ]
  },
  {
   "cell_type": "code",
   "execution_count": 7,
   "metadata": {},
   "outputs": [
    {
     "data": {
      "text/plain": [
       "0          Monday\n",
       "1       Wednesday\n",
       "2          Friday\n",
       "3          Sunday\n",
       "4          Monday\n",
       "          ...    \n",
       "1863     Thursday\n",
       "1864       Friday\n",
       "1865       Sunday\n",
       "1866       Monday\n",
       "1867    Wednesday\n",
       "Name: Day, Length: 1868, dtype: object"
      ]
     },
     "execution_count": 7,
     "metadata": {},
     "output_type": "execute_result"
    }
   ],
   "source": [
    "# Remove any leading and trailing whitespace that might be present from the Day column in moon_df\n",
    "\n",
    "moon_df['Day'].str.strip()"
   ]
  },
  {
   "cell_type": "markdown",
   "metadata": {},
   "source": [
    "Everything looks as expected\n",
    "\n",
    "##### Correct dates to YYYY-MM-DD format in all 3 datasets"
   ]
  },
  {
   "cell_type": "code",
   "execution_count": 8,
   "metadata": {},
   "outputs": [
    {
     "name": "stdout",
     "output_type": "stream",
     "text": [
      "Day             object\n",
      "Date    datetime64[ns]\n",
      "Time            object\n",
      "dtype: object\n",
      "\n",
      "         Day       Date          Time\n",
      "0     Monday 1900-01-15   08:07:30 pm\n",
      "1  Wednesday 1900-02-14   02:50:12 pm\n",
      "2     Friday 1900-03-16   09:11:48 am\n",
      "3     Sunday 1900-04-15   02:02:06 am\n",
      "4     Monday 1900-05-14   04:36:36 pm\n"
     ]
    }
   ],
   "source": [
    "# Start with moon_df, printing dtypes again to confirm successfully converted to datetime\n",
    "\n",
    "moon_df['Date'] = pd.to_datetime(moon_df['Date'])\n",
    "\n",
    "print(moon_df.dtypes, moon_df.head(), sep='\\n\\n')"
   ]
  },
  {
   "cell_type": "code",
   "execution_count": 9,
   "metadata": {},
   "outputs": [
    {
     "name": "stdout",
     "output_type": "stream",
     "text": [
      "   year  month  date_of_month  day_of_week  births       Date\n",
      "0  1994      1              1            6    8096 1994-01-01\n",
      "1  1994      1              2            7    7772 1994-01-02\n",
      "2  1994      1              3            1   10142 1994-01-03\n",
      "\n",
      "year                      int64\n",
      "month                     int64\n",
      "date_of_month             int64\n",
      "day_of_week               int64\n",
      "births                    int64\n",
      "Date             datetime64[ns]\n",
      "dtype: object\n"
     ]
    }
   ],
   "source": [
    "# Next do the birth datasets and check results\n",
    "\n",
    "births1_df['Date'] = pd.to_datetime(births1_df.year.astype(str) + '-' + births1_df.month.astype(str) + '-' + births1_df.date_of_month.astype(str))\n",
    "births2_df['Date'] = pd.to_datetime(births2_df.year.astype(str) + '-' + births2_df.month.astype(str) + '-' + births2_df.date_of_month.astype(str))\n",
    "\n",
    "print(births1_df.head(3), births1_df.dtypes, sep='\\n\\n')"
   ]
  },
  {
   "cell_type": "code",
   "execution_count": 10,
   "metadata": {},
   "outputs": [
    {
     "name": "stdout",
     "output_type": "stream",
     "text": [
      "   year  month  date_of_month  day_of_week  births       Date\n",
      "0  2000      1              1            6    9083 2000-01-01\n",
      "1  2000      1              2            7    8006 2000-01-02\n",
      "2  2000      1              3            1   11363 2000-01-03\n",
      "\n",
      "year                      int64\n",
      "month                     int64\n",
      "date_of_month             int64\n",
      "day_of_week               int64\n",
      "births                    int64\n",
      "Date             datetime64[ns]\n",
      "dtype: object\n"
     ]
    }
   ],
   "source": [
    "print(births2_df.head(3), births2_df.dtypes, sep='\\n\\n')"
   ]
  },
  {
   "cell_type": "markdown",
   "metadata": {},
   "source": [
    "##### Combine birth datasets"
   ]
  },
  {
   "cell_type": "code",
   "execution_count": 11,
   "metadata": {},
   "outputs": [
    {
     "data": {
      "text/html": [
       "<div>\n",
       "<style scoped>\n",
       "    .dataframe tbody tr th:only-of-type {\n",
       "        vertical-align: middle;\n",
       "    }\n",
       "\n",
       "    .dataframe tbody tr th {\n",
       "        vertical-align: top;\n",
       "    }\n",
       "\n",
       "    .dataframe thead th {\n",
       "        text-align: right;\n",
       "    }\n",
       "</style>\n",
       "<table border=\"1\" class=\"dataframe\">\n",
       "  <thead>\n",
       "    <tr style=\"text-align: right;\">\n",
       "      <th></th>\n",
       "      <th>year</th>\n",
       "      <th>month</th>\n",
       "      <th>date_of_month</th>\n",
       "      <th>day_of_week</th>\n",
       "      <th>births</th>\n",
       "      <th>Date</th>\n",
       "    </tr>\n",
       "  </thead>\n",
       "  <tbody>\n",
       "    <tr>\n",
       "      <th>0</th>\n",
       "      <td>1994</td>\n",
       "      <td>1</td>\n",
       "      <td>1</td>\n",
       "      <td>6</td>\n",
       "      <td>8096</td>\n",
       "      <td>1994-01-01</td>\n",
       "    </tr>\n",
       "    <tr>\n",
       "      <th>1</th>\n",
       "      <td>1994</td>\n",
       "      <td>1</td>\n",
       "      <td>2</td>\n",
       "      <td>7</td>\n",
       "      <td>7772</td>\n",
       "      <td>1994-01-02</td>\n",
       "    </tr>\n",
       "    <tr>\n",
       "      <th>2</th>\n",
       "      <td>1994</td>\n",
       "      <td>1</td>\n",
       "      <td>3</td>\n",
       "      <td>1</td>\n",
       "      <td>10142</td>\n",
       "      <td>1994-01-03</td>\n",
       "    </tr>\n",
       "    <tr>\n",
       "      <th>3</th>\n",
       "      <td>1994</td>\n",
       "      <td>1</td>\n",
       "      <td>4</td>\n",
       "      <td>2</td>\n",
       "      <td>11248</td>\n",
       "      <td>1994-01-04</td>\n",
       "    </tr>\n",
       "    <tr>\n",
       "      <th>4</th>\n",
       "      <td>1994</td>\n",
       "      <td>1</td>\n",
       "      <td>5</td>\n",
       "      <td>3</td>\n",
       "      <td>11053</td>\n",
       "      <td>1994-01-05</td>\n",
       "    </tr>\n",
       "    <tr>\n",
       "      <th>...</th>\n",
       "      <td>...</td>\n",
       "      <td>...</td>\n",
       "      <td>...</td>\n",
       "      <td>...</td>\n",
       "      <td>...</td>\n",
       "      <td>...</td>\n",
       "    </tr>\n",
       "    <tr>\n",
       "      <th>9126</th>\n",
       "      <td>2014</td>\n",
       "      <td>12</td>\n",
       "      <td>27</td>\n",
       "      <td>6</td>\n",
       "      <td>8656</td>\n",
       "      <td>2014-12-27</td>\n",
       "    </tr>\n",
       "    <tr>\n",
       "      <th>9127</th>\n",
       "      <td>2014</td>\n",
       "      <td>12</td>\n",
       "      <td>28</td>\n",
       "      <td>7</td>\n",
       "      <td>7724</td>\n",
       "      <td>2014-12-28</td>\n",
       "    </tr>\n",
       "    <tr>\n",
       "      <th>9128</th>\n",
       "      <td>2014</td>\n",
       "      <td>12</td>\n",
       "      <td>29</td>\n",
       "      <td>1</td>\n",
       "      <td>12811</td>\n",
       "      <td>2014-12-29</td>\n",
       "    </tr>\n",
       "    <tr>\n",
       "      <th>9129</th>\n",
       "      <td>2014</td>\n",
       "      <td>12</td>\n",
       "      <td>30</td>\n",
       "      <td>2</td>\n",
       "      <td>13634</td>\n",
       "      <td>2014-12-30</td>\n",
       "    </tr>\n",
       "    <tr>\n",
       "      <th>9130</th>\n",
       "      <td>2014</td>\n",
       "      <td>12</td>\n",
       "      <td>31</td>\n",
       "      <td>3</td>\n",
       "      <td>11990</td>\n",
       "      <td>2014-12-31</td>\n",
       "    </tr>\n",
       "  </tbody>\n",
       "</table>\n",
       "<p>9131 rows × 6 columns</p>\n",
       "</div>"
      ],
      "text/plain": [
       "      year  month  date_of_month  day_of_week  births       Date\n",
       "0     1994      1              1            6    8096 1994-01-01\n",
       "1     1994      1              2            7    7772 1994-01-02\n",
       "2     1994      1              3            1   10142 1994-01-03\n",
       "3     1994      1              4            2   11248 1994-01-04\n",
       "4     1994      1              5            3   11053 1994-01-05\n",
       "...    ...    ...            ...          ...     ...        ...\n",
       "9126  2014     12             27            6    8656 2014-12-27\n",
       "9127  2014     12             28            7    7724 2014-12-28\n",
       "9128  2014     12             29            1   12811 2014-12-29\n",
       "9129  2014     12             30            2   13634 2014-12-30\n",
       "9130  2014     12             31            3   11990 2014-12-31\n",
       "\n",
       "[9131 rows x 6 columns]"
      ]
     },
     "execution_count": 11,
     "metadata": {},
     "output_type": "execute_result"
    }
   ],
   "source": [
    "# Combine birth data into one dataframe\n",
    "\n",
    "births_df = pd.concat([births1_df, births2_df], ignore_index=True)\n",
    "births_df"
   ]
  },
  {
   "cell_type": "markdown",
   "metadata": {},
   "source": [
    "##### Drop duplicate dates since the datasets overlap from 2000-2003"
   ]
  },
  {
   "cell_type": "code",
   "execution_count": 12,
   "metadata": {},
   "outputs": [
    {
     "data": {
      "text/plain": [
       "(9131, 6)"
      ]
     },
     "execution_count": 12,
     "metadata": {},
     "output_type": "execute_result"
    }
   ],
   "source": [
    "# Check the starting number of rows\n",
    "\n",
    "births_df.shape"
   ]
  },
  {
   "cell_type": "code",
   "execution_count": 13,
   "metadata": {},
   "outputs": [
    {
     "data": {
      "text/plain": [
       "(7670, 6)"
      ]
     },
     "execution_count": 13,
     "metadata": {},
     "output_type": "execute_result"
    }
   ],
   "source": [
    "# Drop rows that match on date and verify that rows have been dropped\n",
    "\n",
    "births_df.drop_duplicates(subset=['Date'], keep='last', inplace=True)\n",
    "\n",
    "births_df.shape"
   ]
  },
  {
   "cell_type": "markdown",
   "metadata": {},
   "source": [
    "### Replace day of week numbers with names in birth dataset\n",
    "\n",
    "- We may want to look at births on different days of the week as part of our analysis"
   ]
  },
  {
   "cell_type": "code",
   "execution_count": 14,
   "metadata": {},
   "outputs": [],
   "source": [
    "# According to kaggle documentation, 1 is Monday and 7 is Sunday\n",
    "\n",
    "day_names_dict = {\n",
    "                    1: 'Monday',\n",
    "                    2: 'Tuesday',\n",
    "                    3: 'Wednesday',\n",
    "                    4: 'Thursday',\n",
    "                    5: 'Friday',\n",
    "                    6: 'Saturday',\n",
    "                    7: 'Sunday'\n",
    "                    }"
   ]
  },
  {
   "cell_type": "code",
   "execution_count": 15,
   "metadata": {},
   "outputs": [],
   "source": [
    "# Create series of day numbers from births_df\n",
    "\n",
    "day_numbers = births_df['day_of_week']"
   ]
  },
  {
   "cell_type": "code",
   "execution_count": 16,
   "metadata": {},
   "outputs": [],
   "source": [
    "# Create day names series using series.map()\n",
    "\n",
    "day_names = day_numbers.map(day_names_dict)"
   ]
  },
  {
   "cell_type": "code",
   "execution_count": 17,
   "metadata": {},
   "outputs": [
    {
     "data": {
      "text/html": [
       "<div>\n",
       "<style scoped>\n",
       "    .dataframe tbody tr th:only-of-type {\n",
       "        vertical-align: middle;\n",
       "    }\n",
       "\n",
       "    .dataframe tbody tr th {\n",
       "        vertical-align: top;\n",
       "    }\n",
       "\n",
       "    .dataframe thead th {\n",
       "        text-align: right;\n",
       "    }\n",
       "</style>\n",
       "<table border=\"1\" class=\"dataframe\">\n",
       "  <thead>\n",
       "    <tr style=\"text-align: right;\">\n",
       "      <th></th>\n",
       "      <th>year</th>\n",
       "      <th>month</th>\n",
       "      <th>date_of_month</th>\n",
       "      <th>day_of_week</th>\n",
       "      <th>births</th>\n",
       "      <th>Date</th>\n",
       "      <th>Day</th>\n",
       "    </tr>\n",
       "  </thead>\n",
       "  <tbody>\n",
       "    <tr>\n",
       "      <th>0</th>\n",
       "      <td>1994</td>\n",
       "      <td>1</td>\n",
       "      <td>1</td>\n",
       "      <td>6</td>\n",
       "      <td>8096</td>\n",
       "      <td>1994-01-01</td>\n",
       "      <td>Saturday</td>\n",
       "    </tr>\n",
       "    <tr>\n",
       "      <th>1</th>\n",
       "      <td>1994</td>\n",
       "      <td>1</td>\n",
       "      <td>2</td>\n",
       "      <td>7</td>\n",
       "      <td>7772</td>\n",
       "      <td>1994-01-02</td>\n",
       "      <td>Sunday</td>\n",
       "    </tr>\n",
       "    <tr>\n",
       "      <th>2</th>\n",
       "      <td>1994</td>\n",
       "      <td>1</td>\n",
       "      <td>3</td>\n",
       "      <td>1</td>\n",
       "      <td>10142</td>\n",
       "      <td>1994-01-03</td>\n",
       "      <td>Monday</td>\n",
       "    </tr>\n",
       "    <tr>\n",
       "      <th>3</th>\n",
       "      <td>1994</td>\n",
       "      <td>1</td>\n",
       "      <td>4</td>\n",
       "      <td>2</td>\n",
       "      <td>11248</td>\n",
       "      <td>1994-01-04</td>\n",
       "      <td>Tuesday</td>\n",
       "    </tr>\n",
       "    <tr>\n",
       "      <th>4</th>\n",
       "      <td>1994</td>\n",
       "      <td>1</td>\n",
       "      <td>5</td>\n",
       "      <td>3</td>\n",
       "      <td>11053</td>\n",
       "      <td>1994-01-05</td>\n",
       "      <td>Wednesday</td>\n",
       "    </tr>\n",
       "    <tr>\n",
       "      <th>...</th>\n",
       "      <td>...</td>\n",
       "      <td>...</td>\n",
       "      <td>...</td>\n",
       "      <td>...</td>\n",
       "      <td>...</td>\n",
       "      <td>...</td>\n",
       "      <td>...</td>\n",
       "    </tr>\n",
       "    <tr>\n",
       "      <th>9126</th>\n",
       "      <td>2014</td>\n",
       "      <td>12</td>\n",
       "      <td>27</td>\n",
       "      <td>6</td>\n",
       "      <td>8656</td>\n",
       "      <td>2014-12-27</td>\n",
       "      <td>Saturday</td>\n",
       "    </tr>\n",
       "    <tr>\n",
       "      <th>9127</th>\n",
       "      <td>2014</td>\n",
       "      <td>12</td>\n",
       "      <td>28</td>\n",
       "      <td>7</td>\n",
       "      <td>7724</td>\n",
       "      <td>2014-12-28</td>\n",
       "      <td>Sunday</td>\n",
       "    </tr>\n",
       "    <tr>\n",
       "      <th>9128</th>\n",
       "      <td>2014</td>\n",
       "      <td>12</td>\n",
       "      <td>29</td>\n",
       "      <td>1</td>\n",
       "      <td>12811</td>\n",
       "      <td>2014-12-29</td>\n",
       "      <td>Monday</td>\n",
       "    </tr>\n",
       "    <tr>\n",
       "      <th>9129</th>\n",
       "      <td>2014</td>\n",
       "      <td>12</td>\n",
       "      <td>30</td>\n",
       "      <td>2</td>\n",
       "      <td>13634</td>\n",
       "      <td>2014-12-30</td>\n",
       "      <td>Tuesday</td>\n",
       "    </tr>\n",
       "    <tr>\n",
       "      <th>9130</th>\n",
       "      <td>2014</td>\n",
       "      <td>12</td>\n",
       "      <td>31</td>\n",
       "      <td>3</td>\n",
       "      <td>11990</td>\n",
       "      <td>2014-12-31</td>\n",
       "      <td>Wednesday</td>\n",
       "    </tr>\n",
       "  </tbody>\n",
       "</table>\n",
       "<p>7670 rows × 7 columns</p>\n",
       "</div>"
      ],
      "text/plain": [
       "      year  month  date_of_month  day_of_week  births       Date        Day\n",
       "0     1994      1              1            6    8096 1994-01-01   Saturday\n",
       "1     1994      1              2            7    7772 1994-01-02     Sunday\n",
       "2     1994      1              3            1   10142 1994-01-03     Monday\n",
       "3     1994      1              4            2   11248 1994-01-04    Tuesday\n",
       "4     1994      1              5            3   11053 1994-01-05  Wednesday\n",
       "...    ...    ...            ...          ...     ...        ...        ...\n",
       "9126  2014     12             27            6    8656 2014-12-27   Saturday\n",
       "9127  2014     12             28            7    7724 2014-12-28     Sunday\n",
       "9128  2014     12             29            1   12811 2014-12-29     Monday\n",
       "9129  2014     12             30            2   13634 2014-12-30    Tuesday\n",
       "9130  2014     12             31            3   11990 2014-12-31  Wednesday\n",
       "\n",
       "[7670 rows x 7 columns]"
      ]
     },
     "execution_count": 17,
     "metadata": {},
     "output_type": "execute_result"
    }
   ],
   "source": [
    "# Adding day names series to births_df using same column name as moon_df\n",
    "\n",
    "births_df['Day'] = day_names\n",
    "births_df"
   ]
  },
  {
   "cell_type": "markdown",
   "metadata": {},
   "source": [
    "## Create final dataset\n",
    "### Perform a pandas merge"
   ]
  },
  {
   "cell_type": "code",
   "execution_count": 18,
   "metadata": {},
   "outputs": [
    {
     "data": {
      "text/html": [
       "<div>\n",
       "<style scoped>\n",
       "    .dataframe tbody tr th:only-of-type {\n",
       "        vertical-align: middle;\n",
       "    }\n",
       "\n",
       "    .dataframe tbody tr th {\n",
       "        vertical-align: top;\n",
       "    }\n",
       "\n",
       "    .dataframe thead th {\n",
       "        text-align: right;\n",
       "    }\n",
       "</style>\n",
       "<table border=\"1\" class=\"dataframe\">\n",
       "  <thead>\n",
       "    <tr style=\"text-align: right;\">\n",
       "      <th></th>\n",
       "      <th>year</th>\n",
       "      <th>month</th>\n",
       "      <th>date_of_month</th>\n",
       "      <th>day_of_week</th>\n",
       "      <th>births</th>\n",
       "      <th>Date</th>\n",
       "      <th>Day</th>\n",
       "      <th>Time</th>\n",
       "    </tr>\n",
       "  </thead>\n",
       "  <tbody>\n",
       "    <tr>\n",
       "      <th>0</th>\n",
       "      <td>1994</td>\n",
       "      <td>1</td>\n",
       "      <td>1</td>\n",
       "      <td>6</td>\n",
       "      <td>8096</td>\n",
       "      <td>1994-01-01</td>\n",
       "      <td>Saturday</td>\n",
       "      <td>NaN</td>\n",
       "    </tr>\n",
       "    <tr>\n",
       "      <th>1</th>\n",
       "      <td>1994</td>\n",
       "      <td>1</td>\n",
       "      <td>2</td>\n",
       "      <td>7</td>\n",
       "      <td>7772</td>\n",
       "      <td>1994-01-02</td>\n",
       "      <td>Sunday</td>\n",
       "      <td>NaN</td>\n",
       "    </tr>\n",
       "    <tr>\n",
       "      <th>2</th>\n",
       "      <td>1994</td>\n",
       "      <td>1</td>\n",
       "      <td>3</td>\n",
       "      <td>1</td>\n",
       "      <td>10142</td>\n",
       "      <td>1994-01-03</td>\n",
       "      <td>Monday</td>\n",
       "      <td>NaN</td>\n",
       "    </tr>\n",
       "    <tr>\n",
       "      <th>3</th>\n",
       "      <td>1994</td>\n",
       "      <td>1</td>\n",
       "      <td>4</td>\n",
       "      <td>2</td>\n",
       "      <td>11248</td>\n",
       "      <td>1994-01-04</td>\n",
       "      <td>Tuesday</td>\n",
       "      <td>NaN</td>\n",
       "    </tr>\n",
       "    <tr>\n",
       "      <th>4</th>\n",
       "      <td>1994</td>\n",
       "      <td>1</td>\n",
       "      <td>5</td>\n",
       "      <td>3</td>\n",
       "      <td>11053</td>\n",
       "      <td>1994-01-05</td>\n",
       "      <td>Wednesday</td>\n",
       "      <td>NaN</td>\n",
       "    </tr>\n",
       "    <tr>\n",
       "      <th>...</th>\n",
       "      <td>...</td>\n",
       "      <td>...</td>\n",
       "      <td>...</td>\n",
       "      <td>...</td>\n",
       "      <td>...</td>\n",
       "      <td>...</td>\n",
       "      <td>...</td>\n",
       "      <td>...</td>\n",
       "    </tr>\n",
       "    <tr>\n",
       "      <th>7665</th>\n",
       "      <td>2014</td>\n",
       "      <td>12</td>\n",
       "      <td>27</td>\n",
       "      <td>6</td>\n",
       "      <td>8656</td>\n",
       "      <td>2014-12-27</td>\n",
       "      <td>Saturday</td>\n",
       "      <td>NaN</td>\n",
       "    </tr>\n",
       "    <tr>\n",
       "      <th>7666</th>\n",
       "      <td>2014</td>\n",
       "      <td>12</td>\n",
       "      <td>28</td>\n",
       "      <td>7</td>\n",
       "      <td>7724</td>\n",
       "      <td>2014-12-28</td>\n",
       "      <td>Sunday</td>\n",
       "      <td>NaN</td>\n",
       "    </tr>\n",
       "    <tr>\n",
       "      <th>7667</th>\n",
       "      <td>2014</td>\n",
       "      <td>12</td>\n",
       "      <td>29</td>\n",
       "      <td>1</td>\n",
       "      <td>12811</td>\n",
       "      <td>2014-12-29</td>\n",
       "      <td>Monday</td>\n",
       "      <td>NaN</td>\n",
       "    </tr>\n",
       "    <tr>\n",
       "      <th>7668</th>\n",
       "      <td>2014</td>\n",
       "      <td>12</td>\n",
       "      <td>30</td>\n",
       "      <td>2</td>\n",
       "      <td>13634</td>\n",
       "      <td>2014-12-30</td>\n",
       "      <td>Tuesday</td>\n",
       "      <td>NaN</td>\n",
       "    </tr>\n",
       "    <tr>\n",
       "      <th>7669</th>\n",
       "      <td>2014</td>\n",
       "      <td>12</td>\n",
       "      <td>31</td>\n",
       "      <td>3</td>\n",
       "      <td>11990</td>\n",
       "      <td>2014-12-31</td>\n",
       "      <td>Wednesday</td>\n",
       "      <td>NaN</td>\n",
       "    </tr>\n",
       "  </tbody>\n",
       "</table>\n",
       "<p>7670 rows × 8 columns</p>\n",
       "</div>"
      ],
      "text/plain": [
       "      year  month  date_of_month  day_of_week  births       Date        Day  \\\n",
       "0     1994      1              1            6    8096 1994-01-01   Saturday   \n",
       "1     1994      1              2            7    7772 1994-01-02     Sunday   \n",
       "2     1994      1              3            1   10142 1994-01-03     Monday   \n",
       "3     1994      1              4            2   11248 1994-01-04    Tuesday   \n",
       "4     1994      1              5            3   11053 1994-01-05  Wednesday   \n",
       "...    ...    ...            ...          ...     ...        ...        ...   \n",
       "7665  2014     12             27            6    8656 2014-12-27   Saturday   \n",
       "7666  2014     12             28            7    7724 2014-12-28     Sunday   \n",
       "7667  2014     12             29            1   12811 2014-12-29     Monday   \n",
       "7668  2014     12             30            2   13634 2014-12-30    Tuesday   \n",
       "7669  2014     12             31            3   11990 2014-12-31  Wednesday   \n",
       "\n",
       "     Time  \n",
       "0     NaN  \n",
       "1     NaN  \n",
       "2     NaN  \n",
       "3     NaN  \n",
       "4     NaN  \n",
       "...   ...  \n",
       "7665  NaN  \n",
       "7666  NaN  \n",
       "7667  NaN  \n",
       "7668  NaN  \n",
       "7669  NaN  \n",
       "\n",
       "[7670 rows x 8 columns]"
      ]
     },
     "execution_count": 18,
     "metadata": {},
     "output_type": "execute_result"
    }
   ],
   "source": [
    "# Use Date columns and keep everything in births_df, with only matching rows from moon_df\n",
    "\n",
    "babymoons_df = pd.merge(births_df, moon_df, how = 'left', on = ['Date', 'Day'])\n",
    "babymoons_df"
   ]
  },
  {
   "cell_type": "code",
   "execution_count": 19,
   "metadata": {},
   "outputs": [
    {
     "data": {
      "text/plain": [
       "(7670, 8)"
      ]
     },
     "execution_count": 19,
     "metadata": {},
     "output_type": "execute_result"
    }
   ],
   "source": [
    "# Confirming that the number of rows equals that of births_df\n",
    "\n",
    "babymoons_df.shape"
   ]
  },
  {
   "cell_type": "markdown",
   "metadata": {},
   "source": [
    "### Drop unnecessary columns"
   ]
  },
  {
   "cell_type": "code",
   "execution_count": 20,
   "metadata": {},
   "outputs": [
    {
     "data": {
      "text/html": [
       "<div>\n",
       "<style scoped>\n",
       "    .dataframe tbody tr th:only-of-type {\n",
       "        vertical-align: middle;\n",
       "    }\n",
       "\n",
       "    .dataframe tbody tr th {\n",
       "        vertical-align: top;\n",
       "    }\n",
       "\n",
       "    .dataframe thead th {\n",
       "        text-align: right;\n",
       "    }\n",
       "</style>\n",
       "<table border=\"1\" class=\"dataframe\">\n",
       "  <thead>\n",
       "    <tr style=\"text-align: right;\">\n",
       "      <th></th>\n",
       "      <th>births</th>\n",
       "      <th>Date</th>\n",
       "      <th>Day</th>\n",
       "      <th>Time</th>\n",
       "    </tr>\n",
       "  </thead>\n",
       "  <tbody>\n",
       "    <tr>\n",
       "      <th>0</th>\n",
       "      <td>8096</td>\n",
       "      <td>1994-01-01</td>\n",
       "      <td>Saturday</td>\n",
       "      <td>NaN</td>\n",
       "    </tr>\n",
       "    <tr>\n",
       "      <th>1</th>\n",
       "      <td>7772</td>\n",
       "      <td>1994-01-02</td>\n",
       "      <td>Sunday</td>\n",
       "      <td>NaN</td>\n",
       "    </tr>\n",
       "    <tr>\n",
       "      <th>2</th>\n",
       "      <td>10142</td>\n",
       "      <td>1994-01-03</td>\n",
       "      <td>Monday</td>\n",
       "      <td>NaN</td>\n",
       "    </tr>\n",
       "    <tr>\n",
       "      <th>3</th>\n",
       "      <td>11248</td>\n",
       "      <td>1994-01-04</td>\n",
       "      <td>Tuesday</td>\n",
       "      <td>NaN</td>\n",
       "    </tr>\n",
       "    <tr>\n",
       "      <th>4</th>\n",
       "      <td>11053</td>\n",
       "      <td>1994-01-05</td>\n",
       "      <td>Wednesday</td>\n",
       "      <td>NaN</td>\n",
       "    </tr>\n",
       "  </tbody>\n",
       "</table>\n",
       "</div>"
      ],
      "text/plain": [
       "   births       Date        Day Time\n",
       "0    8096 1994-01-01   Saturday  NaN\n",
       "1    7772 1994-01-02     Sunday  NaN\n",
       "2   10142 1994-01-03     Monday  NaN\n",
       "3   11248 1994-01-04    Tuesday  NaN\n",
       "4   11053 1994-01-05  Wednesday  NaN"
      ]
     },
     "execution_count": 20,
     "metadata": {},
     "output_type": "execute_result"
    }
   ],
   "source": [
    "babymoons_df.drop(['year', 'month', 'date_of_month', 'day_of_week'], axis=1, inplace=True)\n",
    "babymoons_df.head()"
   ]
  },
  {
   "cell_type": "markdown",
   "metadata": {},
   "source": [
    "### Indicate where full moons occur\n",
    "\n",
    "- The Time column has been retained from moons_df, so any entry there that is not NaN represents a full moon\n",
    "- We won't be using the times of the full moon, so we'll change the column to say \"yes\" or \"no\" for whether there was a full moon"
   ]
  },
  {
   "cell_type": "code",
   "execution_count": 21,
   "metadata": {},
   "outputs": [
    {
     "data": {
      "text/html": [
       "<div>\n",
       "<style scoped>\n",
       "    .dataframe tbody tr th:only-of-type {\n",
       "        vertical-align: middle;\n",
       "    }\n",
       "\n",
       "    .dataframe tbody tr th {\n",
       "        vertical-align: top;\n",
       "    }\n",
       "\n",
       "    .dataframe thead th {\n",
       "        text-align: right;\n",
       "    }\n",
       "</style>\n",
       "<table border=\"1\" class=\"dataframe\">\n",
       "  <thead>\n",
       "    <tr style=\"text-align: right;\">\n",
       "      <th></th>\n",
       "      <th>births</th>\n",
       "      <th>Date</th>\n",
       "      <th>Day</th>\n",
       "      <th>Time</th>\n",
       "    </tr>\n",
       "  </thead>\n",
       "  <tbody>\n",
       "    <tr>\n",
       "      <th>0</th>\n",
       "      <td>8096</td>\n",
       "      <td>1994-01-01</td>\n",
       "      <td>Saturday</td>\n",
       "      <td>No</td>\n",
       "    </tr>\n",
       "    <tr>\n",
       "      <th>1</th>\n",
       "      <td>7772</td>\n",
       "      <td>1994-01-02</td>\n",
       "      <td>Sunday</td>\n",
       "      <td>No</td>\n",
       "    </tr>\n",
       "    <tr>\n",
       "      <th>2</th>\n",
       "      <td>10142</td>\n",
       "      <td>1994-01-03</td>\n",
       "      <td>Monday</td>\n",
       "      <td>No</td>\n",
       "    </tr>\n",
       "    <tr>\n",
       "      <th>3</th>\n",
       "      <td>11248</td>\n",
       "      <td>1994-01-04</td>\n",
       "      <td>Tuesday</td>\n",
       "      <td>No</td>\n",
       "    </tr>\n",
       "    <tr>\n",
       "      <th>4</th>\n",
       "      <td>11053</td>\n",
       "      <td>1994-01-05</td>\n",
       "      <td>Wednesday</td>\n",
       "      <td>No</td>\n",
       "    </tr>\n",
       "  </tbody>\n",
       "</table>\n",
       "</div>"
      ],
      "text/plain": [
       "   births       Date        Day Time\n",
       "0    8096 1994-01-01   Saturday   No\n",
       "1    7772 1994-01-02     Sunday   No\n",
       "2   10142 1994-01-03     Monday   No\n",
       "3   11248 1994-01-04    Tuesday   No\n",
       "4   11053 1994-01-05  Wednesday   No"
      ]
     },
     "execution_count": 21,
     "metadata": {},
     "output_type": "execute_result"
    }
   ],
   "source": [
    "# Fill in 'No' wherever NaN is present in Time column and confirm result\n",
    "\n",
    "babymoons_df['Time'].fillna('No', inplace=True)\n",
    "babymoons_df.head()"
   ]
  },
  {
   "cell_type": "code",
   "execution_count": 22,
   "metadata": {},
   "outputs": [
    {
     "data": {
      "text/html": [
       "<div>\n",
       "<style scoped>\n",
       "    .dataframe tbody tr th:only-of-type {\n",
       "        vertical-align: middle;\n",
       "    }\n",
       "\n",
       "    .dataframe tbody tr th {\n",
       "        vertical-align: top;\n",
       "    }\n",
       "\n",
       "    .dataframe thead th {\n",
       "        text-align: right;\n",
       "    }\n",
       "</style>\n",
       "<table border=\"1\" class=\"dataframe\">\n",
       "  <thead>\n",
       "    <tr style=\"text-align: right;\">\n",
       "      <th></th>\n",
       "      <th>births</th>\n",
       "      <th>Date</th>\n",
       "      <th>Day</th>\n",
       "      <th>Time</th>\n",
       "    </tr>\n",
       "  </thead>\n",
       "  <tbody>\n",
       "    <tr>\n",
       "      <th>26</th>\n",
       "      <td>11702</td>\n",
       "      <td>1994-01-27</td>\n",
       "      <td>Thursday</td>\n",
       "      <td>Yes</td>\n",
       "    </tr>\n",
       "    <tr>\n",
       "      <th>56</th>\n",
       "      <td>8988</td>\n",
       "      <td>1994-02-26</td>\n",
       "      <td>Saturday</td>\n",
       "      <td>Yes</td>\n",
       "    </tr>\n",
       "    <tr>\n",
       "      <th>85</th>\n",
       "      <td>8189</td>\n",
       "      <td>1994-03-27</td>\n",
       "      <td>Sunday</td>\n",
       "      <td>Yes</td>\n",
       "    </tr>\n",
       "    <tr>\n",
       "      <th>114</th>\n",
       "      <td>10909</td>\n",
       "      <td>1994-04-25</td>\n",
       "      <td>Monday</td>\n",
       "      <td>Yes</td>\n",
       "    </tr>\n",
       "    <tr>\n",
       "      <th>144</th>\n",
       "      <td>12005</td>\n",
       "      <td>1994-05-25</td>\n",
       "      <td>Wednesday</td>\n",
       "      <td>Yes</td>\n",
       "    </tr>\n",
       "    <tr>\n",
       "      <th>...</th>\n",
       "      <td>...</td>\n",
       "      <td>...</td>\n",
       "      <td>...</td>\n",
       "      <td>...</td>\n",
       "    </tr>\n",
       "    <tr>\n",
       "      <th>7526</th>\n",
       "      <td>7832</td>\n",
       "      <td>2014-08-10</td>\n",
       "      <td>Sunday</td>\n",
       "      <td>Yes</td>\n",
       "    </tr>\n",
       "    <tr>\n",
       "      <th>7556</th>\n",
       "      <td>13629</td>\n",
       "      <td>2014-09-09</td>\n",
       "      <td>Tuesday</td>\n",
       "      <td>Yes</td>\n",
       "    </tr>\n",
       "    <tr>\n",
       "      <th>7585</th>\n",
       "      <td>12363</td>\n",
       "      <td>2014-10-08</td>\n",
       "      <td>Wednesday</td>\n",
       "      <td>Yes</td>\n",
       "    </tr>\n",
       "    <tr>\n",
       "      <th>7614</th>\n",
       "      <td>12489</td>\n",
       "      <td>2014-11-06</td>\n",
       "      <td>Thursday</td>\n",
       "      <td>Yes</td>\n",
       "    </tr>\n",
       "    <tr>\n",
       "      <th>7644</th>\n",
       "      <td>8280</td>\n",
       "      <td>2014-12-06</td>\n",
       "      <td>Saturday</td>\n",
       "      <td>Yes</td>\n",
       "    </tr>\n",
       "  </tbody>\n",
       "</table>\n",
       "<p>259 rows × 4 columns</p>\n",
       "</div>"
      ],
      "text/plain": [
       "      births       Date        Day Time\n",
       "26     11702 1994-01-27   Thursday  Yes\n",
       "56      8988 1994-02-26   Saturday  Yes\n",
       "85      8189 1994-03-27     Sunday  Yes\n",
       "114    10909 1994-04-25     Monday  Yes\n",
       "144    12005 1994-05-25  Wednesday  Yes\n",
       "...      ...        ...        ...  ...\n",
       "7526    7832 2014-08-10     Sunday  Yes\n",
       "7556   13629 2014-09-09    Tuesday  Yes\n",
       "7585   12363 2014-10-08  Wednesday  Yes\n",
       "7614   12489 2014-11-06   Thursday  Yes\n",
       "7644    8280 2014-12-06   Saturday  Yes\n",
       "\n",
       "[259 rows x 4 columns]"
      ]
     },
     "execution_count": 22,
     "metadata": {},
     "output_type": "execute_result"
    }
   ],
   "source": [
    "# Next, replace values in the Time column that don't say 'No' with 'Yes' and confirm result\n",
    "\n",
    "babymoons_df.loc[babymoons_df['Time'] != 'No','Time']='Yes'\n",
    "babymoons_df.loc[babymoons_df['Time'] == 'Yes']"
   ]
  },
  {
   "cell_type": "code",
   "execution_count": 24,
   "metadata": {},
   "outputs": [
    {
     "data": {
      "text/plain": [
       "Index(['Births', 'Date', 'Day', 'Full Moon'], dtype='object')"
      ]
     },
     "execution_count": 24,
     "metadata": {},
     "output_type": "execute_result"
    }
   ],
   "source": [
    "# Rename Time column (and capitalize births column for consistency)\n",
    "\n",
    "babymoons_df.rename(columns= {'births':'Births', 'Time':'Full Moon'}, inplace=True)\n",
    "babymoons_df.columns"
   ]
  },
  {
   "cell_type": "markdown",
   "metadata": {},
   "source": [
    "##### Calculating values based on the new dataset"
   ]
  },
  {
   "cell_type": "code",
   "execution_count": 31,
   "metadata": {},
   "outputs": [
    {
     "data": {
      "text/html": [
       "<div>\n",
       "<style scoped>\n",
       "    .dataframe tbody tr th:only-of-type {\n",
       "        vertical-align: middle;\n",
       "    }\n",
       "\n",
       "    .dataframe tbody tr th {\n",
       "        vertical-align: top;\n",
       "    }\n",
       "\n",
       "    .dataframe thead tr th {\n",
       "        text-align: left;\n",
       "    }\n",
       "\n",
       "    .dataframe thead tr:last-of-type th {\n",
       "        text-align: right;\n",
       "    }\n",
       "</style>\n",
       "<table border=\"1\" class=\"dataframe\">\n",
       "  <thead>\n",
       "    <tr>\n",
       "      <th></th>\n",
       "      <th colspan=\"2\" halign=\"left\">Births</th>\n",
       "    </tr>\n",
       "    <tr>\n",
       "      <th></th>\n",
       "      <th>mean</th>\n",
       "      <th>median</th>\n",
       "    </tr>\n",
       "    <tr>\n",
       "      <th>Full Moon</th>\n",
       "      <th></th>\n",
       "      <th></th>\n",
       "    </tr>\n",
       "  </thead>\n",
       "  <tbody>\n",
       "    <tr>\n",
       "      <th>No</th>\n",
       "      <td>11174.49</td>\n",
       "      <td>11983.0</td>\n",
       "    </tr>\n",
       "    <tr>\n",
       "      <th>Yes</th>\n",
       "      <td>11191.49</td>\n",
       "      <td>11972.0</td>\n",
       "    </tr>\n",
       "  </tbody>\n",
       "</table>\n",
       "</div>"
      ],
      "text/plain": [
       "             Births         \n",
       "               mean   median\n",
       "Full Moon                   \n",
       "No         11174.49  11983.0\n",
       "Yes        11191.49  11972.0"
      ]
     },
     "execution_count": 31,
     "metadata": {},
     "output_type": "execute_result"
    }
   ],
   "source": [
    "babymoons_df.groupby('Full Moon').agg({'Births': ['mean', 'median']}).round(2)"
   ]
  },
  {
   "cell_type": "code",
   "execution_count": 35,
   "metadata": {},
   "outputs": [
    {
     "data": {
      "text/plain": [
       "<AxesSubplot:xlabel='Births', ylabel='Full Moon'>"
      ]
     },
     "execution_count": 35,
     "metadata": {},
     "output_type": "execute_result"
    },
    {
     "data": {
      "image/png": "[encoded data removed]",
      "text/plain": [
       "<Figure size 640x480 with 1 Axes>"
      ]
     },
     "metadata": {},
     "output_type": "display_data"
    }
   ],
   "source": [
    "sns.boxplot(babymoons_df, x='Births', y='Full Moon')"
   ]
  },
  {
   "cell_type": "code",
   "execution_count": null,
   "metadata": {},
   "outputs": [],
   "source": []
  }
 ],
 "metadata": {
  "kernelspec": {
   "display_name": "Python 3.10.1 64-bit",
   "language": "python",
   "name": "python3"
  },
  "language_info": {
   "codemirror_mode": {
    "name": "ipython",
    "version": 3
   },
   "file_extension": ".py",
   "mimetype": "text/x-python",
   "name": "python",
   "nbconvert_exporter": "python",
   "pygments_lexer": "ipython3",
   "version": "3.10.1"
  },
  "orig_nbformat": 4,
  "vscode": {
   "interpreter": {
    "hash": "369f2c481f4da34e4445cda3fffd2e751bd1c4d706f27375911949ba6bb62e1c"
   }
  }
 },
 "nbformat": 4,
 "nbformat_minor": 2
}
