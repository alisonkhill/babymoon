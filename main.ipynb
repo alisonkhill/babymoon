{
 "cells": [
  {
   "cell_type": "markdown",
   "metadata": {},
   "source": [
    "### Import modules"
   ]
  },
  {
   "cell_type": "markdown",
   "metadata": {},
   "source": [
    "# Babymoons\n",
    "#### Code Louisville Data Analysis 2 Project"
   ]
  },
  {
   "cell_type": "code",
   "execution_count": null,
   "metadata": {},
   "outputs": [],
   "source": [
    "import pandas as pd\n",
    "import seaborn as sns\n",
    "from datetime import datetime"
   ]
  },
  {
   "cell_type": "markdown",
   "metadata": {},
   "source": [
    "## Feature 1: Loading Data\n",
    "### Read at least two data files\n",
    "3 csv files are used here"
   ]
  },
  {
   "cell_type": "code",
   "execution_count": null,
   "metadata": {},
   "outputs": [],
   "source": [
    "# Read in and inspect in Variables View\n",
    "\n",
    "moon_df = pd.read_csv('full-moon-calendar-1900-2050/full_moon.csv')\n",
    "births1_df = pd.read_csv('fivethirtyeight-births-dataset/US_births_1994-2003_CDC_NCHS.csv')\n",
    "births2_df = pd.read_csv('fivethirtyeight-births-dataset/US_births_2000-2014_SSA.csv')"
   ]
  },
  {
   "cell_type": "markdown",
   "metadata": {},
   "source": [
    "## Feature 2: Clean and operate on the data while combining them\n",
    "### Clean Data\n",
    "##### Check dataframes for null values"
   ]
  },
  {
   "cell_type": "code",
   "execution_count": null,
   "metadata": {},
   "outputs": [],
   "source": [
    "print(\n",
    "    'births1_df nulls:\\n', births1_df[births1_df.isna().any(axis=1)],\n",
    "    '\\n\\nbirths2_df nulls:\\n', births2_df[births2_df.isna().any(axis=1)],\n",
    "    '\\n\\nmoon_df nulls:\\n', moon_df[moon_df.isna().any(axis=1)]\n",
    ")"
   ]
  },
  {
   "cell_type": "markdown",
   "metadata": {},
   "source": [
    "No null values found\n",
    "\n",
    "##### Check data types and eliminate any extra whitespace"
   ]
  },
  {
   "cell_type": "code",
   "execution_count": null,
   "metadata": {},
   "outputs": [],
   "source": [
    "# Check data types\n",
    "\n",
    "print(\n",
    "    'births1_df dtypes:\\n', births1_df.dtypes, \n",
    "    '\\n\\nbirths2_df dtypes:\\n', births2_df.dtypes,\n",
    "    '\\n\\nmoon_df dtypes:\\n', moon_df.dtypes\n",
    ")"
   ]
  },
  {
   "cell_type": "code",
   "execution_count": null,
   "metadata": {},
   "outputs": [],
   "source": [
    "# It looks there's some extra whitespace in the column names, let's check it out\n",
    "\n",
    "print(\n",
    "    'births1_df:\\n', births1_df.columns,\n",
    "    '\\n\\nbirths2_df:\\n', births2_df.columns,\n",
    "    '\\n\\nmoon_df:\\n', moon_df.columns\n",
    ")"
   ]
  },
  {
   "cell_type": "code",
   "execution_count": null,
   "metadata": {},
   "outputs": [],
   "source": [
    "# There's definitely leading whitespace in front of the moon_df column names - perform strip and view results\n",
    "\n",
    "moon_df.columns = moon_df.columns.str.lstrip()\n",
    "\n",
    "moon_df.columns"
   ]
  },
  {
   "cell_type": "code",
   "execution_count": null,
   "metadata": {},
   "outputs": [],
   "source": [
    "# Remove any leading and trailing whitespace that might be present from the Day column in moon_df\n",
    "\n",
    "moon_df['Day'].str.strip()"
   ]
  },
  {
   "cell_type": "markdown",
   "metadata": {},
   "source": [
    "Everything looks as expected\n",
    "\n",
    "##### Correct dates to YYYY-MM-DD format in all 3 datasets"
   ]
  },
  {
   "cell_type": "code",
   "execution_count": null,
   "metadata": {},
   "outputs": [],
   "source": [
    "# Start with moon_df, printing dtypes again to confirm successfully converted to datetime\n",
    "\n",
    "moon_df['Date'] = pd.to_datetime(moon_df['Date'])\n",
    "\n",
    "print(moon_df.dtypes, moon_df.head(), sep='\\n\\n')"
   ]
  },
  {
   "cell_type": "code",
   "execution_count": null,
   "metadata": {},
   "outputs": [],
   "source": [
    "# Next do the birth datasets and check results\n",
    "\n",
    "births1_df['Date'] = pd.to_datetime(births1_df.year.astype(str) + '-' + births1_df.month.astype(str) + '-' + births1_df.date_of_month.astype(str))\n",
    "\n",
    "print(births1_df.head(3), births1_df.dtypes, sep='\\n\\n')"
   ]
  },
  {
   "cell_type": "code",
   "execution_count": null,
   "metadata": {},
   "outputs": [],
   "source": [
    "births2_df['Date'] = pd.to_datetime(births2_df.year.astype(str) + '-' + births2_df.month.astype(str) + '-' + births2_df.date_of_month.astype(str))\n",
    "\n",
    "print(births2_df.head(3), births2_df.dtypes, sep='\\n\\n')"
   ]
  },
  {
   "cell_type": "markdown",
   "metadata": {},
   "source": [
    "##### Combine birth datasets"
   ]
  },
  {
   "cell_type": "code",
   "execution_count": null,
   "metadata": {},
   "outputs": [],
   "source": [
    "# Combine birth data into one dataframe\n",
    "\n",
    "births_df = pd.concat([births1_df, births2_df], ignore_index=True)"
   ]
  },
  {
   "cell_type": "markdown",
   "metadata": {},
   "source": [
    "Looks good in Variables View\n",
    "\n",
    "##### Drop duplicate dates since the datasets overlap from 2000-2003"
   ]
  },
  {
   "cell_type": "code",
   "execution_count": null,
   "metadata": {},
   "outputs": [],
   "source": [
    "# Check the starting number of rows\n",
    "\n",
    "births_df.shape"
   ]
  },
  {
   "cell_type": "code",
   "execution_count": null,
   "metadata": {},
   "outputs": [],
   "source": [
    "# Drop rows that match on date and verify that rows have been dropped\n",
    "\n",
    "births_df.drop_duplicates(subset=['Date'], keep='last', inplace=True)\n",
    "\n",
    "births_df.shape"
   ]
  },
  {
   "cell_type": "markdown",
   "metadata": {},
   "source": [
    "### Replace day of week numbers with names in birth dataset\n",
    "\n",
    "- We may want to look at births on different days of the week as part of our analysis"
   ]
  },
  {
   "cell_type": "code",
   "execution_count": null,
   "metadata": {},
   "outputs": [],
   "source": [
    "# According to kaggle documentation, 1 is Monday and 7 is Sunday\n",
    "\n",
    "day_names_dict = {\n",
    "                    1: 'Monday',\n",
    "                    2: 'Tuesday',\n",
    "                    3: 'Wednesday',\n",
    "                    4: 'Thursday',\n",
    "                    5: 'Friday',\n",
    "                    6: 'Saturday',\n",
    "                    7: 'Sunday'\n",
    "                    }"
   ]
  },
  {
   "cell_type": "code",
   "execution_count": null,
   "metadata": {},
   "outputs": [],
   "source": [
    "# Create series of day numbers from births_df\n",
    "\n",
    "day_numbers = births_df['day_of_week']"
   ]
  },
  {
   "cell_type": "code",
   "execution_count": null,
   "metadata": {},
   "outputs": [],
   "source": [
    "# Create day names series using series.map()\n",
    "\n",
    "day_names = day_numbers.map(day_names_dict)"
   ]
  },
  {
   "cell_type": "code",
   "execution_count": null,
   "metadata": {},
   "outputs": [],
   "source": [
    "# Adding day names series to births_df using same column name as moon_df\n",
    "\n",
    "births_df['Day'] = day_names"
   ]
  },
  {
   "cell_type": "markdown",
   "metadata": {},
   "source": [
    "## Create final dataset\n",
    "### Perform a pandas merge"
   ]
  },
  {
   "cell_type": "code",
   "execution_count": null,
   "metadata": {},
   "outputs": [],
   "source": [
    "# Use Date columns to merge and keep everything in births_df, with only matching rows from moon_df\n",
    "\n",
    "babymoons_df = pd.merge(births_df, moon_df, how = 'left', on = ['Date', 'Day'])"
   ]
  },
  {
   "cell_type": "code",
   "execution_count": null,
   "metadata": {},
   "outputs": [],
   "source": [
    "# Confirm that the number of rows equals that of births_df\n",
    "\n",
    "babymoons_df.shape"
   ]
  },
  {
   "cell_type": "markdown",
   "metadata": {},
   "source": [
    "Everything looks good in Variables View\n",
    "\n",
    "### Drop unnecessary columns"
   ]
  },
  {
   "cell_type": "code",
   "execution_count": null,
   "metadata": {},
   "outputs": [],
   "source": [
    "babymoons_df.drop(['year', 'month', 'date_of_month', 'day_of_week'], axis=1, inplace=True)\n",
    "babymoons_df.head()"
   ]
  },
  {
   "cell_type": "markdown",
   "metadata": {},
   "source": [
    "### Indicate where full moons occur\n",
    "\n",
    "- The Time column has been retained from moons_df, so any entry there that is not NaN represents a full moon\n",
    "- We won't be using the times of the full moon, so we'll change the column to say \"yes\" or \"no\" for whether there was a full moon"
   ]
  },
  {
   "cell_type": "code",
   "execution_count": null,
   "metadata": {},
   "outputs": [],
   "source": [
    "# Fill in 'No' wherever NaN is present in Time column and confirm result\n",
    "\n",
    "babymoons_df['Time'].fillna('No', inplace=True)"
   ]
  },
  {
   "cell_type": "code",
   "execution_count": null,
   "metadata": {},
   "outputs": [],
   "source": [
    "# Next, replace values in the Time column that don't say 'No' with 'Yes' and confirm result\n",
    "\n",
    "babymoons_df.loc[babymoons_df['Time'] != 'No','Time']='Yes'"
   ]
  },
  {
   "cell_type": "code",
   "execution_count": null,
   "metadata": {},
   "outputs": [],
   "source": [
    "# Rename Time column (and capitalize births column for consistency)\n",
    "\n",
    "babymoons_df.rename(columns= {'births':'Births', 'Time':'Full Moon'}, inplace=True)\n",
    "babymoons_df.columns"
   ]
  },
  {
   "cell_type": "markdown",
   "metadata": {},
   "source": [
    "## Answering questions with the new dataset\n",
    "\n",
    "We want to know if more babies are born on the full moon on average"
   ]
  },
  {
   "cell_type": "code",
   "execution_count": null,
   "metadata": {},
   "outputs": [],
   "source": [
    "# Start looking at descriptive statistics and group by presence or absence of full moon\n",
    "\n",
    "babymoons_df.groupby('Full Moon').agg({'Births': ['mean', 'median', 'min', 'max']}).round(1)"
   ]
  },
  {
   "cell_type": "markdown",
   "metadata": {},
   "source": [
    "# Feature 3: Visualize / Present Your Data"
   ]
  },
  {
   "cell_type": "markdown",
   "metadata": {},
   "source": [
    "## Make 3 matplotlib/seaborn visualizations to display your data"
   ]
  },
  {
   "cell_type": "code",
   "execution_count": null,
   "metadata": {},
   "outputs": [],
   "source": [
    "# It doesn't look like there's a big difference between full moon days and other days, \n",
    "# but small differences can be significant - let's look at distributions with boxplots and histograms\n",
    "\n",
    "sns.boxplot(babymoons_df, x='Births', y='Full Moon')"
   ]
  },
  {
   "cell_type": "markdown",
   "metadata": {},
   "source": [
    "There is a slightly wider range of births on non-full moon days, but they do not look very different."
   ]
  },
  {
   "cell_type": "code",
   "execution_count": null,
   "metadata": {},
   "outputs": [],
   "source": [
    "# Look at overall distribution of births\n",
    "\n",
    "sns.histplot(babymoons_df, x='Births').set(title=\"All Births\")"
   ]
  },
  {
   "cell_type": "code",
   "execution_count": null,
   "metadata": {},
   "outputs": [],
   "source": [
    "sns.histplot(babymoons_df[babymoons_df[\"Full Moon\"]==\"Yes\"], x='Births').set(title=\"Full Moon Births\")"
   ]
  },
  {
   "cell_type": "code",
   "execution_count": null,
   "metadata": {},
   "outputs": [],
   "source": [
    "sns.histplot(babymoons_df[babymoons_df[\"Full Moon\"]==\"No\"], x='Births').set(title=\"Non Full Moon Births\")"
   ]
  },
  {
   "cell_type": "markdown",
   "metadata": {},
   "source": [
    "The distributions all are roughly the same shape (bimodal). But since the distributions are bimodal, that means that our mean calculations are not accurately describing the center of the data, since there are really two centers.\n",
    "\n",
    "According to https://www.statology.org/bimodal-distribution/, bimodal distributions are usually caused by an underlying phenomena or two different groups being lumped together without realizing it. To investigate what might be going on here, let's try looking at other aspects of the data to see if there are really two groups here."
   ]
  },
  {
   "cell_type": "code",
   "execution_count": null,
   "metadata": {},
   "outputs": [],
   "source": [
    "# Let's check out days of the week\n",
    "\n",
    "sns.histplot(babymoons_df, x='Births', hue='Day').set(title=\"Births by Day of Week\")"
   ]
  },
  {
   "cell_type": "markdown",
   "metadata": {},
   "source": [
    "Interesting! It looks like Saturdays and Sundays have a lot more births in the lower peak (and possibly another day or two that we can't tell because of the overlap). Let's investigate further."
   ]
  },
  {
   "cell_type": "code",
   "execution_count": null,
   "metadata": {},
   "outputs": [],
   "source": [
    "# Let's compare boxplots across the days of the week - maybe there will be less spread\n",
    "\n",
    "sns.boxplot(babymoons_df, x='Births', y='Day').set(title='Births by Day of Week')"
   ]
  },
  {
   "cell_type": "markdown",
   "metadata": {},
   "source": [
    "There could be a real difference between weekdays and weekends, so let's add a column for that to our dataframe"
   ]
  },
  {
   "cell_type": "code",
   "execution_count": 82,
   "metadata": {},
   "outputs": [],
   "source": [
    "# Assign the weekend days to new column one at a time, then fill the rest with weekday designation.\n",
    "\n",
    "babymoons_df.loc[babymoons_df['Day']=='Sunday', 'Part of Week'] = 'Weekend'\n",
    "babymoons_df.loc[babymoons_df['Day']=='Saturday', 'Part of Week'] = 'Weekend'\n",
    "babymoons_df['Part of Week'].fillna('Weekday', inplace=True)"
   ]
  },
  {
   "cell_type": "code",
   "execution_count": 85,
   "metadata": {},
   "outputs": [
    {
     "data": {
      "text/plain": [
       "<AxesSubplot:xlabel='Births', ylabel='Count'>"
      ]
     },
     "execution_count": 85,
     "metadata": {},
     "output_type": "execute_result"
    },
    {
     "data": {
      "image/png": "[encoded data removed]",
      "text/plain": [
       "<Figure size 640x480 with 1 Axes>"
      ]
     },
     "metadata": {},
     "output_type": "display_data"
    }
   ],
   "source": [
    "# Let's take a look at the distributions\n",
    "\n",
    "sns.histplot(babymoons_df, x='Births', hue='Part of Week')"
   ]
  },
  {
   "cell_type": "code",
   "execution_count": 86,
   "metadata": {},
   "outputs": [
    {
     "data": {
      "text/plain": [
       "<AxesSubplot:xlabel='Births', ylabel='Part of Week'>"
      ]
     },
     "execution_count": 86,
     "metadata": {},
     "output_type": "execute_result"
    },
    {
     "data": {
      "image/png": "[encoded data removed]",
      "text/plain": [
       "<Figure size 640x480 with 1 Axes>"
      ]
     },
     "metadata": {},
     "output_type": "display_data"
    }
   ],
   "source": [
    "sns.boxplot(babymoons_df, x='Births', y='Part of Week')"
   ]
  },
  {
   "cell_type": "markdown",
   "metadata": {},
   "source": [
    "Wow! It looks like this explains our bimodal distributions. Let's see if that changes the way our moon data looks."
   ]
  },
  {
   "cell_type": "code",
   "execution_count": 88,
   "metadata": {},
   "outputs": [
    {
     "data": {
      "text/plain": [
       "<seaborn.axisgrid.FacetGrid at 0x2c1c85631c0>"
      ]
     },
     "execution_count": 88,
     "metadata": {},
     "output_type": "execute_result"
    },
    {
     "data": {
      "image/png": "[encoded data removed]",
      "text/plain": [
       "<Figure size 1000x1000 with 4 Axes>"
      ]
     },
     "metadata": {},
     "output_type": "display_data"
    }
   ],
   "source": [
    "sns.displot(babymoons_df, x='Births', row='Part of Week', col='Full Moon', stat='probability')"
   ]
  },
  {
   "cell_type": "code",
   "execution_count": null,
   "metadata": {},
   "outputs": [],
   "source": []
  }
 ],
 "metadata": {
  "kernelspec": {
   "display_name": "Python 3.10.1 64-bit",
   "language": "python",
   "name": "python3"
  },
  "language_info": {
   "codemirror_mode": {
    "name": "ipython",
    "version": 3
   },
   "file_extension": ".py",
   "mimetype": "text/x-python",
   "name": "python",
   "nbconvert_exporter": "python",
   "pygments_lexer": "ipython3",
   "version": "3.10.1"
  },
  "orig_nbformat": 4,
  "vscode": {
   "interpreter": {
    "hash": "369f2c481f4da34e4445cda3fffd2e751bd1c4d706f27375911949ba6bb62e1c"
   }
  }
 },
 "nbformat": 4,
 "nbformat_minor": 2
}
